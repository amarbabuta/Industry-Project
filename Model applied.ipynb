{
 "cells": [
  {
   "cell_type": "code",
   "execution_count": 1,
   "metadata": {},
   "outputs": [],
   "source": [
    "import csv\n",
    "import pandas as pd\n",
    "from sklearn.linear_model import LogisticRegression \n",
    "from sklearn.preprocessing import LabelEncoder\n",
    "LE=LabelEncoder()\n",
    "from sklearn.model_selection import train_test_split\n",
    "from sklearn.metrics import accuracy_score\n",
    "from sklearn.metrics import accuracy_score, confusion_matrix\n",
    "from sklearn.metrics import precision_recall_fscore_support\n",
    "from sklearn.svm import LinearSVC\n",
    "from sklearn.svm import SVC\n",
    "from sklearn.linear_model import LogisticRegression\n",
    "from sklearn.naive_bayes import BernoulliNB\n",
    "from sklearn.naive_bayes import MultinomialNB\n",
    "from sklearn.ensemble import VotingClassifier\n",
    "from sklearn.model_selection import GridSearchCV\n",
    "from sklearn.neighbors import KNeighborsClassifier\n",
    "from sklearn.tree import DecisionTreeClassifier\n",
    "from sklearn.ensemble import RandomForestClassifier"
   ]
  },
  {
   "cell_type": "markdown",
   "metadata": {},
   "source": [
    "###### Preprocessed Data"
   ]
  },
  {
   "cell_type": "code",
   "execution_count": 2,
   "metadata": {},
   "outputs": [],
   "source": [
    "df=pd.read_csv('subset1.csv')"
   ]
  },
  {
   "cell_type": "code",
   "execution_count": 3,
   "metadata": {},
   "outputs": [
    {
     "data": {
      "text/plain": [
       "CASE_ID                   object\n",
       "STU_CITIZEN_NM            object\n",
       "STU_ABOR_TSI_NM           object\n",
       "SUBMISSION_METHOD         object\n",
       "ENTRY_TYPE                object\n",
       "ASSESSMENT_DECISION_NM    object\n",
       "ASSESSMENT_OUTCOME_NM     object\n",
       "LAST_COUNTRY_EDUCATION    object\n",
       "PREFERENCE_NO              int64\n",
       "AVAIL_ORG_UNIT_NM         object\n",
       "STUDY_MODE_CD             object\n",
       "RETURNING_DEFERRAL        object\n",
       "CURR_AVAIL_YR              int64\n",
       "CURR_STUDY_PERIOD         object\n",
       "ORIG_AVAIL_YR              int64\n",
       "ORIG_STUDY_PERIOD         object\n",
       "SPK_CAT_TYPE_CD           object\n",
       "OFFER_RELEASED_FG         object\n",
       "OFFER_OUTCOME_CD          object\n",
       "OFFER_CONDITIONS          object\n",
       "dtype: object"
      ]
     },
     "execution_count": 3,
     "metadata": {},
     "output_type": "execute_result"
    }
   ],
   "source": [
    "df.dtypes"
   ]
  },
  {
   "cell_type": "markdown",
   "metadata": {},
   "source": [
    "###### For Response Variable 1 (OFFER_RELEASED_FG())"
   ]
  },
  {
   "cell_type": "code",
   "execution_count": 4,
   "metadata": {},
   "outputs": [],
   "source": [
    "PG_df=df[['CASE_ID','STU_CITIZEN_NM','STU_ABOR_TSI_NM','SUBMISSION_METHOD','ENTRY_TYPE','LAST_COUNTRY_EDUCATION',\n",
    "          'PREFERENCE_NO','AVAIL_ORG_UNIT_NM','STUDY_MODE_CD','ORIG_AVAIL_YR','ORIG_STUDY_PERIOD','SPK_CAT_TYPE_CD',\n",
    "          'OFFER_RELEASED_FG']]"
   ]
  },
  {
   "cell_type": "code",
   "execution_count": 5,
   "metadata": {
    "scrolled": true
   },
   "outputs": [
    {
     "data": {
      "text/html": [
       "<div>\n",
       "<style scoped>\n",
       "    .dataframe tbody tr th:only-of-type {\n",
       "        vertical-align: middle;\n",
       "    }\n",
       "\n",
       "    .dataframe tbody tr th {\n",
       "        vertical-align: top;\n",
       "    }\n",
       "\n",
       "    .dataframe thead th {\n",
       "        text-align: right;\n",
       "    }\n",
       "</style>\n",
       "<table border=\"1\" class=\"dataframe\">\n",
       "  <thead>\n",
       "    <tr style=\"text-align: right;\">\n",
       "      <th></th>\n",
       "      <th>CASE_ID</th>\n",
       "      <th>STU_CITIZEN_NM</th>\n",
       "      <th>STU_ABOR_TSI_NM</th>\n",
       "      <th>SUBMISSION_METHOD</th>\n",
       "      <th>ENTRY_TYPE</th>\n",
       "      <th>LAST_COUNTRY_EDUCATION</th>\n",
       "      <th>PREFERENCE_NO</th>\n",
       "      <th>AVAIL_ORG_UNIT_NM</th>\n",
       "      <th>STUDY_MODE_CD</th>\n",
       "      <th>ORIG_AVAIL_YR</th>\n",
       "      <th>ORIG_STUDY_PERIOD</th>\n",
       "      <th>SPK_CAT_TYPE_CD</th>\n",
       "      <th>OFFER_RELEASED_FG</th>\n",
       "    </tr>\n",
       "  </thead>\n",
       "  <tbody>\n",
       "    <tr>\n",
       "      <th>0</th>\n",
       "      <td>809378|42892|53807</td>\n",
       "      <td>Temporary Entry Permit</td>\n",
       "      <td>Temporary Entry Permit</td>\n",
       "      <td>Online Application</td>\n",
       "      <td>Bachelor (equiv Aust 3yr deg)</td>\n",
       "      <td>China (excludes SARs and Taiwan)</td>\n",
       "      <td>1</td>\n",
       "      <td>Arts</td>\n",
       "      <td>STD</td>\n",
       "      <td>2016</td>\n",
       "      <td>Mid Year Intake</td>\n",
       "      <td>MCW</td>\n",
       "      <td>Y</td>\n",
       "    </tr>\n",
       "    <tr>\n",
       "      <th>1</th>\n",
       "      <td>257764|62446|92576</td>\n",
       "      <td>Australian</td>\n",
       "      <td>Australian</td>\n",
       "      <td>Online Application</td>\n",
       "      <td>Grad Dip/Postgrad Dip</td>\n",
       "      <td>Not entered</td>\n",
       "      <td>1</td>\n",
       "      <td>Law</td>\n",
       "      <td>STD</td>\n",
       "      <td>2016</td>\n",
       "      <td>Mid Year Intake</td>\n",
       "      <td>PGD</td>\n",
       "      <td>Y</td>\n",
       "    </tr>\n",
       "    <tr>\n",
       "      <th>2</th>\n",
       "      <td>838396|92416|142450</td>\n",
       "      <td>Temporary Entry Permit</td>\n",
       "      <td>Temporary Entry Permit</td>\n",
       "      <td>Online Application</td>\n",
       "      <td>Bachelor (equiv Aust 3yr deg)</td>\n",
       "      <td>Chile</td>\n",
       "      <td>1</td>\n",
       "      <td>Engineering</td>\n",
       "      <td>STD</td>\n",
       "      <td>2017</td>\n",
       "      <td>Start Year Intake</td>\n",
       "      <td>MCW</td>\n",
       "      <td>Y</td>\n",
       "    </tr>\n",
       "    <tr>\n",
       "      <th>3</th>\n",
       "      <td>735486|18758|144154</td>\n",
       "      <td>Temporary Entry Permit</td>\n",
       "      <td>Temporary Entry Permit</td>\n",
       "      <td>Data Entry</td>\n",
       "      <td>Bachelor (equiv Aust 3yr deg)</td>\n",
       "      <td>Mexico</td>\n",
       "      <td>1</td>\n",
       "      <td>Engineering</td>\n",
       "      <td>STD</td>\n",
       "      <td>2017</td>\n",
       "      <td>Start Year Intake</td>\n",
       "      <td>MCW</td>\n",
       "      <td>Y</td>\n",
       "    </tr>\n",
       "    <tr>\n",
       "      <th>4</th>\n",
       "      <td>502030|95557|149167</td>\n",
       "      <td>Australian</td>\n",
       "      <td>Australian</td>\n",
       "      <td>Online Application</td>\n",
       "      <td>Not entered</td>\n",
       "      <td>Australia</td>\n",
       "      <td>1</td>\n",
       "      <td>Engineering</td>\n",
       "      <td>STD</td>\n",
       "      <td>2017</td>\n",
       "      <td>Start Year Intake</td>\n",
       "      <td>MCW</td>\n",
       "      <td>Y</td>\n",
       "    </tr>\n",
       "    <tr>\n",
       "      <th>...</th>\n",
       "      <td>...</td>\n",
       "      <td>...</td>\n",
       "      <td>...</td>\n",
       "      <td>...</td>\n",
       "      <td>...</td>\n",
       "      <td>...</td>\n",
       "      <td>...</td>\n",
       "      <td>...</td>\n",
       "      <td>...</td>\n",
       "      <td>...</td>\n",
       "      <td>...</td>\n",
       "      <td>...</td>\n",
       "      <td>...</td>\n",
       "    </tr>\n",
       "    <tr>\n",
       "      <th>74393</th>\n",
       "      <td>1140088|517629|793809</td>\n",
       "      <td>Temporary Entry Permit</td>\n",
       "      <td>Temporary Entry Permit</td>\n",
       "      <td>Online Application</td>\n",
       "      <td>Not entered</td>\n",
       "      <td>Not entered</td>\n",
       "      <td>2</td>\n",
       "      <td>Science</td>\n",
       "      <td>STD</td>\n",
       "      <td>2020</td>\n",
       "      <td>Mid Year Intake</td>\n",
       "      <td>MCW</td>\n",
       "      <td>Y</td>\n",
       "    </tr>\n",
       "    <tr>\n",
       "      <th>74394</th>\n",
       "      <td>1098399|517631|793811</td>\n",
       "      <td>Temporary Entry Permit</td>\n",
       "      <td>Temporary Entry Permit</td>\n",
       "      <td>Online Application</td>\n",
       "      <td>Bachelor (equiv Aust 3yr deg)</td>\n",
       "      <td>China (excludes SARs and Taiwan)</td>\n",
       "      <td>1</td>\n",
       "      <td>Arts</td>\n",
       "      <td>STD</td>\n",
       "      <td>2020</td>\n",
       "      <td>Start Year Intake</td>\n",
       "      <td>MCW</td>\n",
       "      <td>Y</td>\n",
       "    </tr>\n",
       "    <tr>\n",
       "      <th>74395</th>\n",
       "      <td>1098399|517631|793812</td>\n",
       "      <td>Temporary Entry Permit</td>\n",
       "      <td>Temporary Entry Permit</td>\n",
       "      <td>Online Application</td>\n",
       "      <td>Not entered</td>\n",
       "      <td>China (excludes SARs and Taiwan)</td>\n",
       "      <td>2</td>\n",
       "      <td>Arts</td>\n",
       "      <td>STD</td>\n",
       "      <td>2020</td>\n",
       "      <td>Start Year Intake</td>\n",
       "      <td>MCW</td>\n",
       "      <td>Not entered</td>\n",
       "    </tr>\n",
       "    <tr>\n",
       "      <th>74396</th>\n",
       "      <td>912858|517632|793813</td>\n",
       "      <td>Australian</td>\n",
       "      <td>Australian</td>\n",
       "      <td>Online Application</td>\n",
       "      <td>Not entered</td>\n",
       "      <td>Not entered</td>\n",
       "      <td>1</td>\n",
       "      <td>Medicine, Dentistry and Health Sciences</td>\n",
       "      <td>STD</td>\n",
       "      <td>2020</td>\n",
       "      <td>Start Year Intake</td>\n",
       "      <td>MCW</td>\n",
       "      <td>Not entered</td>\n",
       "    </tr>\n",
       "    <tr>\n",
       "      <th>74397</th>\n",
       "      <td>1140092|517633|793814</td>\n",
       "      <td>Temporary Entry Permit</td>\n",
       "      <td>Temporary Entry Permit</td>\n",
       "      <td>Online Application</td>\n",
       "      <td>Bachelor (equiv Aust 3yr deg)</td>\n",
       "      <td>China (excludes SARs and Taiwan)</td>\n",
       "      <td>1</td>\n",
       "      <td>Business and Economics</td>\n",
       "      <td>STD</td>\n",
       "      <td>2020</td>\n",
       "      <td>Mid Year Intake</td>\n",
       "      <td>MCW</td>\n",
       "      <td>Not entered</td>\n",
       "    </tr>\n",
       "  </tbody>\n",
       "</table>\n",
       "<p>74398 rows × 13 columns</p>\n",
       "</div>"
      ],
      "text/plain": [
       "                     CASE_ID          STU_CITIZEN_NM         STU_ABOR_TSI_NM  \\\n",
       "0         809378|42892|53807  Temporary Entry Permit  Temporary Entry Permit   \n",
       "1         257764|62446|92576              Australian              Australian   \n",
       "2        838396|92416|142450  Temporary Entry Permit  Temporary Entry Permit   \n",
       "3        735486|18758|144154  Temporary Entry Permit  Temporary Entry Permit   \n",
       "4        502030|95557|149167              Australian              Australian   \n",
       "...                      ...                     ...                     ...   \n",
       "74393  1140088|517629|793809  Temporary Entry Permit  Temporary Entry Permit   \n",
       "74394  1098399|517631|793811  Temporary Entry Permit  Temporary Entry Permit   \n",
       "74395  1098399|517631|793812  Temporary Entry Permit  Temporary Entry Permit   \n",
       "74396   912858|517632|793813              Australian              Australian   \n",
       "74397  1140092|517633|793814  Temporary Entry Permit  Temporary Entry Permit   \n",
       "\n",
       "        SUBMISSION_METHOD                     ENTRY_TYPE  \\\n",
       "0      Online Application  Bachelor (equiv Aust 3yr deg)   \n",
       "1      Online Application          Grad Dip/Postgrad Dip   \n",
       "2      Online Application  Bachelor (equiv Aust 3yr deg)   \n",
       "3              Data Entry  Bachelor (equiv Aust 3yr deg)   \n",
       "4      Online Application                    Not entered   \n",
       "...                   ...                            ...   \n",
       "74393  Online Application                    Not entered   \n",
       "74394  Online Application  Bachelor (equiv Aust 3yr deg)   \n",
       "74395  Online Application                    Not entered   \n",
       "74396  Online Application                    Not entered   \n",
       "74397  Online Application  Bachelor (equiv Aust 3yr deg)   \n",
       "\n",
       "                 LAST_COUNTRY_EDUCATION  PREFERENCE_NO  \\\n",
       "0      China (excludes SARs and Taiwan)              1   \n",
       "1                           Not entered              1   \n",
       "2                                 Chile              1   \n",
       "3                                Mexico              1   \n",
       "4                             Australia              1   \n",
       "...                                 ...            ...   \n",
       "74393                       Not entered              2   \n",
       "74394  China (excludes SARs and Taiwan)              1   \n",
       "74395  China (excludes SARs and Taiwan)              2   \n",
       "74396                       Not entered              1   \n",
       "74397  China (excludes SARs and Taiwan)              1   \n",
       "\n",
       "                             AVAIL_ORG_UNIT_NM STUDY_MODE_CD  ORIG_AVAIL_YR  \\\n",
       "0                                         Arts           STD           2016   \n",
       "1                                          Law           STD           2016   \n",
       "2                                  Engineering           STD           2017   \n",
       "3                                  Engineering           STD           2017   \n",
       "4                                  Engineering           STD           2017   \n",
       "...                                        ...           ...            ...   \n",
       "74393                                  Science           STD           2020   \n",
       "74394                                     Arts           STD           2020   \n",
       "74395                                     Arts           STD           2020   \n",
       "74396  Medicine, Dentistry and Health Sciences           STD           2020   \n",
       "74397                   Business and Economics           STD           2020   \n",
       "\n",
       "       ORIG_STUDY_PERIOD SPK_CAT_TYPE_CD OFFER_RELEASED_FG  \n",
       "0        Mid Year Intake             MCW                 Y  \n",
       "1        Mid Year Intake             PGD                 Y  \n",
       "2      Start Year Intake             MCW                 Y  \n",
       "3      Start Year Intake             MCW                 Y  \n",
       "4      Start Year Intake             MCW                 Y  \n",
       "...                  ...             ...               ...  \n",
       "74393    Mid Year Intake             MCW                 Y  \n",
       "74394  Start Year Intake             MCW                 Y  \n",
       "74395  Start Year Intake             MCW       Not entered  \n",
       "74396  Start Year Intake             MCW       Not entered  \n",
       "74397    Mid Year Intake             MCW       Not entered  \n",
       "\n",
       "[74398 rows x 13 columns]"
      ]
     },
     "execution_count": 5,
     "metadata": {},
     "output_type": "execute_result"
    }
   ],
   "source": [
    "PG_df"
   ]
  },
  {
   "cell_type": "code",
   "execution_count": 6,
   "metadata": {},
   "outputs": [
    {
     "data": {
      "text/plain": [
       "CASE_ID                   object\n",
       "STU_CITIZEN_NM            object\n",
       "STU_ABOR_TSI_NM           object\n",
       "SUBMISSION_METHOD         object\n",
       "ENTRY_TYPE                object\n",
       "LAST_COUNTRY_EDUCATION    object\n",
       "PREFERENCE_NO              int64\n",
       "AVAIL_ORG_UNIT_NM         object\n",
       "STUDY_MODE_CD             object\n",
       "ORIG_AVAIL_YR              int64\n",
       "ORIG_STUDY_PERIOD         object\n",
       "SPK_CAT_TYPE_CD           object\n",
       "OFFER_RELEASED_FG         object\n",
       "dtype: object"
      ]
     },
     "execution_count": 6,
     "metadata": {},
     "output_type": "execute_result"
    }
   ],
   "source": [
    "PG_df.dtypes"
   ]
  },
  {
   "cell_type": "markdown",
   "metadata": {},
   "source": [
    "###### Labelling the categorical variables"
   ]
  },
  {
   "cell_type": "code",
   "execution_count": 7,
   "metadata": {},
   "outputs": [
    {
     "name": "stderr",
     "output_type": "stream",
     "text": [
      "C:\\Users\\AMAR\\Anaconda3\\lib\\site-packages\\pandas\\core\\indexing.py:966: SettingWithCopyWarning: \n",
      "A value is trying to be set on a copy of a slice from a DataFrame.\n",
      "Try using .loc[row_indexer,col_indexer] = value instead\n",
      "\n",
      "See the caveats in the documentation: https://pandas.pydata.org/pandas-docs/stable/user_guide/indexing.html#returning-a-view-versus-a-copy\n",
      "  self.obj[item] = s\n"
     ]
    }
   ],
   "source": [
    "PG_df.iloc[:,1] = LE.fit_transform(PG_df.iloc[:, 1].values)"
   ]
  },
  {
   "cell_type": "code",
   "execution_count": 8,
   "metadata": {},
   "outputs": [],
   "source": [
    "PG_df.iloc[:,2] = LE.fit_transform(PG_df.iloc[:, 2].values)"
   ]
  },
  {
   "cell_type": "code",
   "execution_count": 9,
   "metadata": {},
   "outputs": [],
   "source": [
    "PG_df.iloc[:,3] = LE.fit_transform(PG_df.iloc[:, 3].values)"
   ]
  },
  {
   "cell_type": "code",
   "execution_count": 10,
   "metadata": {},
   "outputs": [],
   "source": [
    "PG_df.iloc[:,4] = LE.fit_transform(PG_df.iloc[:, 4].values)"
   ]
  },
  {
   "cell_type": "code",
   "execution_count": 11,
   "metadata": {},
   "outputs": [],
   "source": [
    "PG_df.iloc[:,5] = LE.fit_transform(PG_df.iloc[:, 5].values)"
   ]
  },
  {
   "cell_type": "code",
   "execution_count": 12,
   "metadata": {},
   "outputs": [],
   "source": [
    "PG_df.iloc[:,7] = LE.fit_transform(PG_df.iloc[:, 7].values)"
   ]
  },
  {
   "cell_type": "code",
   "execution_count": 13,
   "metadata": {},
   "outputs": [],
   "source": [
    "PG_df.iloc[:,8] = LE.fit_transform(PG_df.iloc[:, 8].values)"
   ]
  },
  {
   "cell_type": "code",
   "execution_count": 14,
   "metadata": {},
   "outputs": [],
   "source": [
    "PG_df.iloc[:,10] = LE.fit_transform(PG_df.iloc[:, 10].values)"
   ]
  },
  {
   "cell_type": "code",
   "execution_count": 15,
   "metadata": {},
   "outputs": [],
   "source": [
    "PG_df.iloc[:,11] = LE.fit_transform(PG_df.iloc[:, 11].values)"
   ]
  },
  {
   "cell_type": "code",
   "execution_count": 16,
   "metadata": {},
   "outputs": [],
   "source": [
    "PG_df.iloc[:,12] = LE.fit_transform(PG_df.iloc[:, 12].values)"
   ]
  },
  {
   "cell_type": "code",
   "execution_count": 17,
   "metadata": {},
   "outputs": [
    {
     "data": {
      "text/html": [
       "<div>\n",
       "<style scoped>\n",
       "    .dataframe tbody tr th:only-of-type {\n",
       "        vertical-align: middle;\n",
       "    }\n",
       "\n",
       "    .dataframe tbody tr th {\n",
       "        vertical-align: top;\n",
       "    }\n",
       "\n",
       "    .dataframe thead th {\n",
       "        text-align: right;\n",
       "    }\n",
       "</style>\n",
       "<table border=\"1\" class=\"dataframe\">\n",
       "  <thead>\n",
       "    <tr style=\"text-align: right;\">\n",
       "      <th></th>\n",
       "      <th>CASE_ID</th>\n",
       "      <th>STU_CITIZEN_NM</th>\n",
       "      <th>STU_ABOR_TSI_NM</th>\n",
       "      <th>SUBMISSION_METHOD</th>\n",
       "      <th>ENTRY_TYPE</th>\n",
       "      <th>LAST_COUNTRY_EDUCATION</th>\n",
       "      <th>PREFERENCE_NO</th>\n",
       "      <th>AVAIL_ORG_UNIT_NM</th>\n",
       "      <th>STUDY_MODE_CD</th>\n",
       "      <th>ORIG_AVAIL_YR</th>\n",
       "      <th>ORIG_STUDY_PERIOD</th>\n",
       "      <th>SPK_CAT_TYPE_CD</th>\n",
       "      <th>OFFER_RELEASED_FG</th>\n",
       "    </tr>\n",
       "  </thead>\n",
       "  <tbody>\n",
       "    <tr>\n",
       "      <th>0</th>\n",
       "      <td>809378|42892|53807</td>\n",
       "      <td>5</td>\n",
       "      <td>5</td>\n",
       "      <td>5</td>\n",
       "      <td>3</td>\n",
       "      <td>23</td>\n",
       "      <td>1</td>\n",
       "      <td>1</td>\n",
       "      <td>3</td>\n",
       "      <td>2016</td>\n",
       "      <td>0</td>\n",
       "      <td>3</td>\n",
       "      <td>2</td>\n",
       "    </tr>\n",
       "    <tr>\n",
       "      <th>1</th>\n",
       "      <td>257764|62446|92576</td>\n",
       "      <td>0</td>\n",
       "      <td>0</td>\n",
       "      <td>5</td>\n",
       "      <td>7</td>\n",
       "      <td>88</td>\n",
       "      <td>1</td>\n",
       "      <td>5</td>\n",
       "      <td>3</td>\n",
       "      <td>2016</td>\n",
       "      <td>0</td>\n",
       "      <td>4</td>\n",
       "      <td>2</td>\n",
       "    </tr>\n",
       "    <tr>\n",
       "      <th>2</th>\n",
       "      <td>838396|92416|142450</td>\n",
       "      <td>5</td>\n",
       "      <td>5</td>\n",
       "      <td>5</td>\n",
       "      <td>3</td>\n",
       "      <td>22</td>\n",
       "      <td>1</td>\n",
       "      <td>3</td>\n",
       "      <td>3</td>\n",
       "      <td>2017</td>\n",
       "      <td>1</td>\n",
       "      <td>3</td>\n",
       "      <td>2</td>\n",
       "    </tr>\n",
       "    <tr>\n",
       "      <th>3</th>\n",
       "      <td>735486|18758|144154</td>\n",
       "      <td>5</td>\n",
       "      <td>5</td>\n",
       "      <td>0</td>\n",
       "      <td>3</td>\n",
       "      <td>76</td>\n",
       "      <td>1</td>\n",
       "      <td>3</td>\n",
       "      <td>3</td>\n",
       "      <td>2017</td>\n",
       "      <td>1</td>\n",
       "      <td>3</td>\n",
       "      <td>2</td>\n",
       "    </tr>\n",
       "    <tr>\n",
       "      <th>4</th>\n",
       "      <td>502030|95557|149167</td>\n",
       "      <td>0</td>\n",
       "      <td>0</td>\n",
       "      <td>5</td>\n",
       "      <td>10</td>\n",
       "      <td>5</td>\n",
       "      <td>1</td>\n",
       "      <td>3</td>\n",
       "      <td>3</td>\n",
       "      <td>2017</td>\n",
       "      <td>1</td>\n",
       "      <td>3</td>\n",
       "      <td>2</td>\n",
       "    </tr>\n",
       "    <tr>\n",
       "      <th>...</th>\n",
       "      <td>...</td>\n",
       "      <td>...</td>\n",
       "      <td>...</td>\n",
       "      <td>...</td>\n",
       "      <td>...</td>\n",
       "      <td>...</td>\n",
       "      <td>...</td>\n",
       "      <td>...</td>\n",
       "      <td>...</td>\n",
       "      <td>...</td>\n",
       "      <td>...</td>\n",
       "      <td>...</td>\n",
       "      <td>...</td>\n",
       "    </tr>\n",
       "    <tr>\n",
       "      <th>74393</th>\n",
       "      <td>1140088|517629|793809</td>\n",
       "      <td>5</td>\n",
       "      <td>5</td>\n",
       "      <td>5</td>\n",
       "      <td>10</td>\n",
       "      <td>88</td>\n",
       "      <td>2</td>\n",
       "      <td>10</td>\n",
       "      <td>3</td>\n",
       "      <td>2020</td>\n",
       "      <td>0</td>\n",
       "      <td>3</td>\n",
       "      <td>2</td>\n",
       "    </tr>\n",
       "    <tr>\n",
       "      <th>74394</th>\n",
       "      <td>1098399|517631|793811</td>\n",
       "      <td>5</td>\n",
       "      <td>5</td>\n",
       "      <td>5</td>\n",
       "      <td>3</td>\n",
       "      <td>23</td>\n",
       "      <td>1</td>\n",
       "      <td>1</td>\n",
       "      <td>3</td>\n",
       "      <td>2020</td>\n",
       "      <td>1</td>\n",
       "      <td>3</td>\n",
       "      <td>2</td>\n",
       "    </tr>\n",
       "    <tr>\n",
       "      <th>74395</th>\n",
       "      <td>1098399|517631|793812</td>\n",
       "      <td>5</td>\n",
       "      <td>5</td>\n",
       "      <td>5</td>\n",
       "      <td>10</td>\n",
       "      <td>23</td>\n",
       "      <td>2</td>\n",
       "      <td>1</td>\n",
       "      <td>3</td>\n",
       "      <td>2020</td>\n",
       "      <td>1</td>\n",
       "      <td>3</td>\n",
       "      <td>1</td>\n",
       "    </tr>\n",
       "    <tr>\n",
       "      <th>74396</th>\n",
       "      <td>912858|517632|793813</td>\n",
       "      <td>0</td>\n",
       "      <td>0</td>\n",
       "      <td>5</td>\n",
       "      <td>10</td>\n",
       "      <td>88</td>\n",
       "      <td>1</td>\n",
       "      <td>6</td>\n",
       "      <td>3</td>\n",
       "      <td>2020</td>\n",
       "      <td>1</td>\n",
       "      <td>3</td>\n",
       "      <td>1</td>\n",
       "    </tr>\n",
       "    <tr>\n",
       "      <th>74397</th>\n",
       "      <td>1140092|517633|793814</td>\n",
       "      <td>5</td>\n",
       "      <td>5</td>\n",
       "      <td>5</td>\n",
       "      <td>3</td>\n",
       "      <td>23</td>\n",
       "      <td>1</td>\n",
       "      <td>2</td>\n",
       "      <td>3</td>\n",
       "      <td>2020</td>\n",
       "      <td>0</td>\n",
       "      <td>3</td>\n",
       "      <td>1</td>\n",
       "    </tr>\n",
       "  </tbody>\n",
       "</table>\n",
       "<p>74398 rows × 13 columns</p>\n",
       "</div>"
      ],
      "text/plain": [
       "                     CASE_ID  STU_CITIZEN_NM  STU_ABOR_TSI_NM  \\\n",
       "0         809378|42892|53807               5                5   \n",
       "1         257764|62446|92576               0                0   \n",
       "2        838396|92416|142450               5                5   \n",
       "3        735486|18758|144154               5                5   \n",
       "4        502030|95557|149167               0                0   \n",
       "...                      ...             ...              ...   \n",
       "74393  1140088|517629|793809               5                5   \n",
       "74394  1098399|517631|793811               5                5   \n",
       "74395  1098399|517631|793812               5                5   \n",
       "74396   912858|517632|793813               0                0   \n",
       "74397  1140092|517633|793814               5                5   \n",
       "\n",
       "       SUBMISSION_METHOD  ENTRY_TYPE  LAST_COUNTRY_EDUCATION  PREFERENCE_NO  \\\n",
       "0                      5           3                      23              1   \n",
       "1                      5           7                      88              1   \n",
       "2                      5           3                      22              1   \n",
       "3                      0           3                      76              1   \n",
       "4                      5          10                       5              1   \n",
       "...                  ...         ...                     ...            ...   \n",
       "74393                  5          10                      88              2   \n",
       "74394                  5           3                      23              1   \n",
       "74395                  5          10                      23              2   \n",
       "74396                  5          10                      88              1   \n",
       "74397                  5           3                      23              1   \n",
       "\n",
       "       AVAIL_ORG_UNIT_NM  STUDY_MODE_CD  ORIG_AVAIL_YR  ORIG_STUDY_PERIOD  \\\n",
       "0                      1              3           2016                  0   \n",
       "1                      5              3           2016                  0   \n",
       "2                      3              3           2017                  1   \n",
       "3                      3              3           2017                  1   \n",
       "4                      3              3           2017                  1   \n",
       "...                  ...            ...            ...                ...   \n",
       "74393                 10              3           2020                  0   \n",
       "74394                  1              3           2020                  1   \n",
       "74395                  1              3           2020                  1   \n",
       "74396                  6              3           2020                  1   \n",
       "74397                  2              3           2020                  0   \n",
       "\n",
       "       SPK_CAT_TYPE_CD  OFFER_RELEASED_FG  \n",
       "0                    3                  2  \n",
       "1                    4                  2  \n",
       "2                    3                  2  \n",
       "3                    3                  2  \n",
       "4                    3                  2  \n",
       "...                ...                ...  \n",
       "74393                3                  2  \n",
       "74394                3                  2  \n",
       "74395                3                  1  \n",
       "74396                3                  1  \n",
       "74397                3                  1  \n",
       "\n",
       "[74398 rows x 13 columns]"
      ]
     },
     "execution_count": 17,
     "metadata": {},
     "output_type": "execute_result"
    }
   ],
   "source": [
    "PG_df"
   ]
  },
  {
   "cell_type": "code",
   "execution_count": 18,
   "metadata": {},
   "outputs": [
    {
     "data": {
      "text/plain": [
       "CASE_ID                   object\n",
       "STU_CITIZEN_NM             int32\n",
       "STU_ABOR_TSI_NM            int32\n",
       "SUBMISSION_METHOD          int32\n",
       "ENTRY_TYPE                 int32\n",
       "LAST_COUNTRY_EDUCATION     int32\n",
       "PREFERENCE_NO              int64\n",
       "AVAIL_ORG_UNIT_NM          int32\n",
       "STUDY_MODE_CD              int32\n",
       "ORIG_AVAIL_YR              int64\n",
       "ORIG_STUDY_PERIOD          int32\n",
       "SPK_CAT_TYPE_CD            int32\n",
       "OFFER_RELEASED_FG          int32\n",
       "dtype: object"
      ]
     },
     "execution_count": 18,
     "metadata": {},
     "output_type": "execute_result"
    }
   ],
   "source": [
    "PG_df.dtypes"
   ]
  },
  {
   "cell_type": "code",
   "execution_count": 19,
   "metadata": {},
   "outputs": [],
   "source": [
    "X=PG_df.iloc[:,1:12].values\n",
    "Y=PG_df.iloc[:,12].values "
   ]
  },
  {
   "cell_type": "code",
   "execution_count": 20,
   "metadata": {},
   "outputs": [],
   "source": [
    "#spliting dataset\n",
    "x_train,x_test,y_train,y_test=train_test_split(X,Y,test_size = 0.3,random_state=0)"
   ]
  },
  {
   "cell_type": "code",
   "execution_count": 21,
   "metadata": {},
   "outputs": [],
   "source": [
    "# Logistic Regression\n",
    "lr = LogisticRegression()"
   ]
  },
  {
   "cell_type": "code",
   "execution_count": 22,
   "metadata": {},
   "outputs": [
    {
     "name": "stderr",
     "output_type": "stream",
     "text": [
      "C:\\Users\\AMAR\\Anaconda3\\lib\\site-packages\\sklearn\\linear_model\\logistic.py:433: FutureWarning: Default solver will be changed to 'lbfgs' in 0.22. Specify a solver to silence this warning.\n",
      "  FutureWarning)\n",
      "C:\\Users\\AMAR\\Anaconda3\\lib\\site-packages\\sklearn\\linear_model\\logistic.py:460: FutureWarning: Default multi_class will be changed to 'auto' in 0.22. Specify the multi_class option to silence this warning.\n",
      "  \"this warning.\", FutureWarning)\n"
     ]
    },
    {
     "data": {
      "text/plain": [
       "LogisticRegression(C=1.0, class_weight=None, dual=False, fit_intercept=True,\n",
       "          intercept_scaling=1, max_iter=100, multi_class='warn',\n",
       "          n_jobs=None, penalty='l2', random_state=None, solver='warn',\n",
       "          tol=0.0001, verbose=0, warm_start=False)"
      ]
     },
     "execution_count": 22,
     "metadata": {},
     "output_type": "execute_result"
    }
   ],
   "source": [
    "lr.fit(x_train,y_train)"
   ]
  },
  {
   "cell_type": "code",
   "execution_count": 23,
   "metadata": {},
   "outputs": [
    {
     "name": "stdout",
     "output_type": "stream",
     "text": [
      "accuracy: 67.82%\n"
     ]
    }
   ],
   "source": [
    "lr_predict=lr.predict(x_test)\n",
    "print(\"accuracy: {}%\".format(round(accuracy_score(y_test, lr_predict)*100,2)))"
   ]
  },
  {
   "cell_type": "code",
   "execution_count": 24,
   "metadata": {},
   "outputs": [
    {
     "name": "stdout",
     "output_type": "stream",
     "text": [
      "Accuracy: 67.82%\n",
      "\n",
      " Confusion Matrix : \n",
      "\n",
      "[[4150    0]\n",
      " [  15    0]]\n",
      "\n",
      "Performance on offer released:\n",
      "Precision = 0.6782258064516129\n",
      "Recall    = 0.6782258064516129\n",
      "F1        = 0.6782258064516129\n"
     ]
    }
   ],
   "source": [
    "# Confusion matrix, f1_sccore, Precision, Recall\n",
    "score=accuracy_score(y_test,lr_predict)\n",
    "print(f'Accuracy: {round(score*100,2)}%')\n",
    "\n",
    "cm=confusion_matrix(y_test,lr_predict, labels=[1,0])\n",
    "print (\"\\n Confusion Matrix : \\n\")\n",
    "print (cm)\n",
    "\n",
    "p, r, f, _ = precision_recall_fscore_support(y_test,lr_predict, pos_label=1, average=\"micro\");\n",
    "\n",
    "print(\"\\nPerformance on offer released:\")\n",
    "print(\"Precision =\", p)\n",
    "print(\"Recall    =\", r)\n",
    "print(\"F1        =\", f)"
   ]
  },
  {
   "cell_type": "code",
   "execution_count": 25,
   "metadata": {
    "scrolled": true
   },
   "outputs": [
    {
     "data": {
      "text/plain": [
       "array([2, 1, 2, ..., 2, 2, 2])"
      ]
     },
     "execution_count": 25,
     "metadata": {},
     "output_type": "execute_result"
    }
   ],
   "source": [
    "lr_predict"
   ]
  },
  {
   "cell_type": "code",
   "execution_count": 26,
   "metadata": {},
   "outputs": [
    {
     "name": "stderr",
     "output_type": "stream",
     "text": [
      "C:\\Users\\AMAR\\Anaconda3\\lib\\site-packages\\sklearn\\svm\\base.py:922: ConvergenceWarning: Liblinear failed to converge, increase the number of iterations.\n",
      "  \"the number of iterations.\", ConvergenceWarning)\n"
     ]
    },
    {
     "data": {
      "text/plain": [
       "LinearSVC(C=1.0, class_weight=None, dual=True, fit_intercept=True,\n",
       "     intercept_scaling=1, loss='squared_hinge', max_iter=1000,\n",
       "     multi_class='ovr', penalty='l2', random_state=None, tol=0.0001,\n",
       "     verbose=0)"
      ]
     },
     "execution_count": 26,
     "metadata": {},
     "output_type": "execute_result"
    }
   ],
   "source": [
    "# Linear SVM\n",
    "svm = LinearSVC()\n",
    "svm.fit(x_train, y_train)"
   ]
  },
  {
   "cell_type": "code",
   "execution_count": 27,
   "metadata": {},
   "outputs": [
    {
     "name": "stdout",
     "output_type": "stream",
     "text": [
      "accuracy: 67.89%\n"
     ]
    }
   ],
   "source": [
    "svm_predict = svm.predict(x_test)\n",
    "print(\"accuracy: {}%\".format(round(accuracy_score(y_test, svm_predict)*100,2)))"
   ]
  },
  {
   "cell_type": "code",
   "execution_count": 28,
   "metadata": {},
   "outputs": [
    {
     "name": "stderr",
     "output_type": "stream",
     "text": [
      "C:\\Users\\AMAR\\Anaconda3\\lib\\site-packages\\sklearn\\svm\\base.py:196: FutureWarning: The default value of gamma will change from 'auto' to 'scale' in version 0.22 to account better for unscaled features. Set gamma explicitly to 'auto' or 'scale' to avoid this warning.\n",
      "  \"avoid this warning.\", FutureWarning)\n"
     ]
    },
    {
     "data": {
      "text/plain": [
       "SVC(C=1.0, cache_size=200, class_weight=None, coef0=0.0,\n",
       "  decision_function_shape='ovr', degree=3, gamma='auto_deprecated',\n",
       "  kernel='rbf', max_iter=-1, probability=False, random_state=None,\n",
       "  shrinking=True, tol=0.001, verbose=False)"
      ]
     },
     "execution_count": 28,
     "metadata": {},
     "output_type": "execute_result"
    }
   ],
   "source": [
    "# SVC\n",
    "svc = SVC()\n",
    "svc.fit(x_train, y_train)"
   ]
  },
  {
   "cell_type": "code",
   "execution_count": 29,
   "metadata": {},
   "outputs": [
    {
     "name": "stdout",
     "output_type": "stream",
     "text": [
      "accuracy: 70.64%\n"
     ]
    }
   ],
   "source": [
    "svc_predict = svc.predict(x_test)\n",
    "print(\"accuracy: {}%\".format(round(accuracy_score(y_test, svc_predict)*100,2)))"
   ]
  },
  {
   "cell_type": "code",
   "execution_count": 30,
   "metadata": {},
   "outputs": [
    {
     "data": {
      "text/plain": [
       "MultinomialNB(alpha=1.0, class_prior=None, fit_prior=True)"
      ]
     },
     "execution_count": 30,
     "metadata": {},
     "output_type": "execute_result"
    }
   ],
   "source": [
    "# Multinomial Naive Bayes\n",
    "mnb = MultinomialNB()\n",
    "mnb.fit(x_train, y_train)"
   ]
  },
  {
   "cell_type": "code",
   "execution_count": 31,
   "metadata": {},
   "outputs": [
    {
     "name": "stdout",
     "output_type": "stream",
     "text": [
      "accuracy: 54.92%\n"
     ]
    }
   ],
   "source": [
    "mnb_predict = mnb.predict(x_test)\n",
    "print(\"accuracy: {}%\".format(round(accuracy_score(y_test, mnb_predict)*100,2)))"
   ]
  },
  {
   "cell_type": "code",
   "execution_count": 32,
   "metadata": {},
   "outputs": [
    {
     "data": {
      "text/plain": [
       "BernoulliNB(alpha=1.0, binarize=0.0, class_prior=None, fit_prior=True)"
      ]
     },
     "execution_count": 32,
     "metadata": {},
     "output_type": "execute_result"
    }
   ],
   "source": [
    "# Bernoulli Naive Bayes\n",
    "bnb = BernoulliNB()\n",
    "bnb.fit(x_train, y_train)"
   ]
  },
  {
   "cell_type": "code",
   "execution_count": 33,
   "metadata": {},
   "outputs": [
    {
     "name": "stdout",
     "output_type": "stream",
     "text": [
      "accuracy: 56.77%\n"
     ]
    }
   ],
   "source": [
    "bnb_predict = bnb.predict(x_test)\n",
    "print(\"accuracy: {}%\".format(round(accuracy_score(y_test, bnb_predict)*100,2)))"
   ]
  },
  {
   "cell_type": "code",
   "execution_count": 34,
   "metadata": {},
   "outputs": [
    {
     "data": {
      "text/plain": [
       "KNeighborsClassifier(algorithm='auto', leaf_size=30, metric='minkowski',\n",
       "           metric_params=None, n_jobs=None, n_neighbors=5, p=2,\n",
       "           weights='uniform')"
      ]
     },
     "execution_count": 34,
     "metadata": {},
     "output_type": "execute_result"
    }
   ],
   "source": [
    "# K Nearest Neighbors\n",
    "Knn = KNeighborsClassifier()\n",
    "Knn.fit(x_train,y_train)"
   ]
  },
  {
   "cell_type": "code",
   "execution_count": 35,
   "metadata": {},
   "outputs": [
    {
     "name": "stdout",
     "output_type": "stream",
     "text": [
      "accuracy: 69.36%\n"
     ]
    }
   ],
   "source": [
    "knn_predict=Knn.predict(x_test)\n",
    "print(\"accuracy: {}%\".format(round(accuracy_score(y_test, knn_predict)*100,2)))"
   ]
  },
  {
   "cell_type": "code",
   "execution_count": 36,
   "metadata": {},
   "outputs": [
    {
     "data": {
      "text/plain": [
       "DecisionTreeClassifier(class_weight=None, criterion='gini', max_depth=None,\n",
       "            max_features=None, max_leaf_nodes=None,\n",
       "            min_impurity_decrease=0.0, min_impurity_split=None,\n",
       "            min_samples_leaf=1, min_samples_split=2,\n",
       "            min_weight_fraction_leaf=0.0, presort=False, random_state=None,\n",
       "            splitter='best')"
      ]
     },
     "execution_count": 36,
     "metadata": {},
     "output_type": "execute_result"
    }
   ],
   "source": [
    "# Decision Tree\n",
    "tree = DecisionTreeClassifier()\n",
    "tree.fit(x_train,y_train)"
   ]
  },
  {
   "cell_type": "code",
   "execution_count": 37,
   "metadata": {},
   "outputs": [
    {
     "name": "stdout",
     "output_type": "stream",
     "text": [
      "accuracy: 71.77%\n"
     ]
    }
   ],
   "source": [
    "dt_predict=tree.predict(x_test)\n",
    "print(\"accuracy: {}%\".format(round(accuracy_score(y_test, dt_predict)*100,2)))"
   ]
  },
  {
   "cell_type": "code",
   "execution_count": 38,
   "metadata": {},
   "outputs": [
    {
     "name": "stderr",
     "output_type": "stream",
     "text": [
      "C:\\Users\\AMAR\\Anaconda3\\lib\\site-packages\\sklearn\\ensemble\\forest.py:246: FutureWarning: The default value of n_estimators will change from 10 in version 0.20 to 100 in 0.22.\n",
      "  \"10 in version 0.20 to 100 in 0.22.\", FutureWarning)\n"
     ]
    },
    {
     "data": {
      "text/plain": [
       "RandomForestClassifier(bootstrap=True, class_weight=None, criterion='gini',\n",
       "            max_depth=None, max_features='auto', max_leaf_nodes=None,\n",
       "            min_impurity_decrease=0.0, min_impurity_split=None,\n",
       "            min_samples_leaf=1, min_samples_split=2,\n",
       "            min_weight_fraction_leaf=0.0, n_estimators=10, n_jobs=None,\n",
       "            oob_score=False, random_state=None, verbose=0,\n",
       "            warm_start=False)"
      ]
     },
     "execution_count": 38,
     "metadata": {},
     "output_type": "execute_result"
    }
   ],
   "source": [
    "# Random Forest Classifier\n",
    "forest = RandomForestClassifier()\n",
    "forest.fit(x_train,y_train)"
   ]
  },
  {
   "cell_type": "code",
   "execution_count": 39,
   "metadata": {},
   "outputs": [
    {
     "name": "stdout",
     "output_type": "stream",
     "text": [
      "accuracy: 72.18%\n"
     ]
    }
   ],
   "source": [
    "random_predict=forest.predict(x_test)\n",
    "print(\"accuracy: {}%\".format(round(accuracy_score(y_test, random_predict)*100,2)))"
   ]
  },
  {
   "cell_type": "code",
   "execution_count": 40,
   "metadata": {},
   "outputs": [
    {
     "name": "stdout",
     "output_type": "stream",
     "text": [
      "The accuracy for Decision tree and Random Forest is: 0.7254032258064517\n"
     ]
    }
   ],
   "source": [
    "# Ensemble Approach\n",
    "ensemble=VotingClassifier(estimators=[('DT', tree), ('Random Forest', forest)], \n",
    "                        voting='hard', weights=[1,2]).fit(x_train,y_train)\n",
    "print('The accuracy for Decision tree and Random Forest is:',ensemble.score(x_test,y_test))"
   ]
  },
  {
   "cell_type": "code",
   "execution_count": 41,
   "metadata": {},
   "outputs": [
    {
     "name": "stdout",
     "output_type": "stream",
     "text": [
      "accuracy: 72.54%\n"
     ]
    }
   ],
   "source": [
    "ensemble_predict = ensemble.predict(x_test)\n",
    "print(\"accuracy: {}%\".format(round(accuracy_score(y_test, ensemble_predict)*100,2)))"
   ]
  },
  {
   "cell_type": "markdown",
   "metadata": {},
   "source": [
    "###### For Response Variable 2 (OFFER_OUTCOME_CD( ))"
   ]
  },
  {
   "cell_type": "code",
   "execution_count": 42,
   "metadata": {},
   "outputs": [],
   "source": [
    "PG_df1=df[['CASE_ID','STU_CITIZEN_NM','STU_ABOR_TSI_NM','SUBMISSION_METHOD','ENTRY_TYPE','LAST_COUNTRY_EDUCATION',\n",
    "          'PREFERENCE_NO','AVAIL_ORG_UNIT_NM','STUDY_MODE_CD','ORIG_AVAIL_YR','ORIG_STUDY_PERIOD','SPK_CAT_TYPE_CD',\n",
    "          'OFFER_RELEASED_FG','OFFER_OUTCOME_CD']]"
   ]
  },
  {
   "cell_type": "code",
   "execution_count": 43,
   "metadata": {},
   "outputs": [
    {
     "data": {
      "text/html": [
       "<div>\n",
       "<style scoped>\n",
       "    .dataframe tbody tr th:only-of-type {\n",
       "        vertical-align: middle;\n",
       "    }\n",
       "\n",
       "    .dataframe tbody tr th {\n",
       "        vertical-align: top;\n",
       "    }\n",
       "\n",
       "    .dataframe thead th {\n",
       "        text-align: right;\n",
       "    }\n",
       "</style>\n",
       "<table border=\"1\" class=\"dataframe\">\n",
       "  <thead>\n",
       "    <tr style=\"text-align: right;\">\n",
       "      <th></th>\n",
       "      <th>CASE_ID</th>\n",
       "      <th>STU_CITIZEN_NM</th>\n",
       "      <th>STU_ABOR_TSI_NM</th>\n",
       "      <th>SUBMISSION_METHOD</th>\n",
       "      <th>ENTRY_TYPE</th>\n",
       "      <th>LAST_COUNTRY_EDUCATION</th>\n",
       "      <th>PREFERENCE_NO</th>\n",
       "      <th>AVAIL_ORG_UNIT_NM</th>\n",
       "      <th>STUDY_MODE_CD</th>\n",
       "      <th>ORIG_AVAIL_YR</th>\n",
       "      <th>ORIG_STUDY_PERIOD</th>\n",
       "      <th>SPK_CAT_TYPE_CD</th>\n",
       "      <th>OFFER_RELEASED_FG</th>\n",
       "      <th>OFFER_OUTCOME_CD</th>\n",
       "    </tr>\n",
       "  </thead>\n",
       "  <tbody>\n",
       "    <tr>\n",
       "      <th>0</th>\n",
       "      <td>809378|42892|53807</td>\n",
       "      <td>Temporary Entry Permit</td>\n",
       "      <td>Temporary Entry Permit</td>\n",
       "      <td>Online Application</td>\n",
       "      <td>Bachelor (equiv Aust 3yr deg)</td>\n",
       "      <td>China (excludes SARs and Taiwan)</td>\n",
       "      <td>1</td>\n",
       "      <td>Arts</td>\n",
       "      <td>STD</td>\n",
       "      <td>2016</td>\n",
       "      <td>Mid Year Intake</td>\n",
       "      <td>MCW</td>\n",
       "      <td>Y</td>\n",
       "      <td>$DEF</td>\n",
       "    </tr>\n",
       "    <tr>\n",
       "      <th>1</th>\n",
       "      <td>257764|62446|92576</td>\n",
       "      <td>Australian</td>\n",
       "      <td>Australian</td>\n",
       "      <td>Online Application</td>\n",
       "      <td>Grad Dip/Postgrad Dip</td>\n",
       "      <td>Not entered</td>\n",
       "      <td>1</td>\n",
       "      <td>Law</td>\n",
       "      <td>STD</td>\n",
       "      <td>2016</td>\n",
       "      <td>Mid Year Intake</td>\n",
       "      <td>PGD</td>\n",
       "      <td>Y</td>\n",
       "      <td>$ACC</td>\n",
       "    </tr>\n",
       "    <tr>\n",
       "      <th>2</th>\n",
       "      <td>838396|92416|142450</td>\n",
       "      <td>Temporary Entry Permit</td>\n",
       "      <td>Temporary Entry Permit</td>\n",
       "      <td>Online Application</td>\n",
       "      <td>Bachelor (equiv Aust 3yr deg)</td>\n",
       "      <td>Chile</td>\n",
       "      <td>1</td>\n",
       "      <td>Engineering</td>\n",
       "      <td>STD</td>\n",
       "      <td>2017</td>\n",
       "      <td>Start Year Intake</td>\n",
       "      <td>MCW</td>\n",
       "      <td>Y</td>\n",
       "      <td>$ACC</td>\n",
       "    </tr>\n",
       "    <tr>\n",
       "      <th>3</th>\n",
       "      <td>735486|18758|144154</td>\n",
       "      <td>Temporary Entry Permit</td>\n",
       "      <td>Temporary Entry Permit</td>\n",
       "      <td>Data Entry</td>\n",
       "      <td>Bachelor (equiv Aust 3yr deg)</td>\n",
       "      <td>Mexico</td>\n",
       "      <td>1</td>\n",
       "      <td>Engineering</td>\n",
       "      <td>STD</td>\n",
       "      <td>2017</td>\n",
       "      <td>Start Year Intake</td>\n",
       "      <td>MCW</td>\n",
       "      <td>Y</td>\n",
       "      <td>$DEF</td>\n",
       "    </tr>\n",
       "    <tr>\n",
       "      <th>4</th>\n",
       "      <td>502030|95557|149167</td>\n",
       "      <td>Australian</td>\n",
       "      <td>Australian</td>\n",
       "      <td>Online Application</td>\n",
       "      <td>Not entered</td>\n",
       "      <td>Australia</td>\n",
       "      <td>1</td>\n",
       "      <td>Engineering</td>\n",
       "      <td>STD</td>\n",
       "      <td>2017</td>\n",
       "      <td>Start Year Intake</td>\n",
       "      <td>MCW</td>\n",
       "      <td>Y</td>\n",
       "      <td>$ACC</td>\n",
       "    </tr>\n",
       "    <tr>\n",
       "      <th>...</th>\n",
       "      <td>...</td>\n",
       "      <td>...</td>\n",
       "      <td>...</td>\n",
       "      <td>...</td>\n",
       "      <td>...</td>\n",
       "      <td>...</td>\n",
       "      <td>...</td>\n",
       "      <td>...</td>\n",
       "      <td>...</td>\n",
       "      <td>...</td>\n",
       "      <td>...</td>\n",
       "      <td>...</td>\n",
       "      <td>...</td>\n",
       "      <td>...</td>\n",
       "    </tr>\n",
       "    <tr>\n",
       "      <th>74393</th>\n",
       "      <td>1140088|517629|793809</td>\n",
       "      <td>Temporary Entry Permit</td>\n",
       "      <td>Temporary Entry Permit</td>\n",
       "      <td>Online Application</td>\n",
       "      <td>Not entered</td>\n",
       "      <td>Not entered</td>\n",
       "      <td>2</td>\n",
       "      <td>Science</td>\n",
       "      <td>STD</td>\n",
       "      <td>2020</td>\n",
       "      <td>Mid Year Intake</td>\n",
       "      <td>MCW</td>\n",
       "      <td>Y</td>\n",
       "      <td>NaN</td>\n",
       "    </tr>\n",
       "    <tr>\n",
       "      <th>74394</th>\n",
       "      <td>1098399|517631|793811</td>\n",
       "      <td>Temporary Entry Permit</td>\n",
       "      <td>Temporary Entry Permit</td>\n",
       "      <td>Online Application</td>\n",
       "      <td>Bachelor (equiv Aust 3yr deg)</td>\n",
       "      <td>China (excludes SARs and Taiwan)</td>\n",
       "      <td>1</td>\n",
       "      <td>Arts</td>\n",
       "      <td>STD</td>\n",
       "      <td>2020</td>\n",
       "      <td>Start Year Intake</td>\n",
       "      <td>MCW</td>\n",
       "      <td>Y</td>\n",
       "      <td>NaN</td>\n",
       "    </tr>\n",
       "    <tr>\n",
       "      <th>74395</th>\n",
       "      <td>1098399|517631|793812</td>\n",
       "      <td>Temporary Entry Permit</td>\n",
       "      <td>Temporary Entry Permit</td>\n",
       "      <td>Online Application</td>\n",
       "      <td>Not entered</td>\n",
       "      <td>China (excludes SARs and Taiwan)</td>\n",
       "      <td>2</td>\n",
       "      <td>Arts</td>\n",
       "      <td>STD</td>\n",
       "      <td>2020</td>\n",
       "      <td>Start Year Intake</td>\n",
       "      <td>MCW</td>\n",
       "      <td>Not entered</td>\n",
       "      <td>Not entered</td>\n",
       "    </tr>\n",
       "    <tr>\n",
       "      <th>74396</th>\n",
       "      <td>912858|517632|793813</td>\n",
       "      <td>Australian</td>\n",
       "      <td>Australian</td>\n",
       "      <td>Online Application</td>\n",
       "      <td>Not entered</td>\n",
       "      <td>Not entered</td>\n",
       "      <td>1</td>\n",
       "      <td>Medicine, Dentistry and Health Sciences</td>\n",
       "      <td>STD</td>\n",
       "      <td>2020</td>\n",
       "      <td>Start Year Intake</td>\n",
       "      <td>MCW</td>\n",
       "      <td>Not entered</td>\n",
       "      <td>Not entered</td>\n",
       "    </tr>\n",
       "    <tr>\n",
       "      <th>74397</th>\n",
       "      <td>1140092|517633|793814</td>\n",
       "      <td>Temporary Entry Permit</td>\n",
       "      <td>Temporary Entry Permit</td>\n",
       "      <td>Online Application</td>\n",
       "      <td>Bachelor (equiv Aust 3yr deg)</td>\n",
       "      <td>China (excludes SARs and Taiwan)</td>\n",
       "      <td>1</td>\n",
       "      <td>Business and Economics</td>\n",
       "      <td>STD</td>\n",
       "      <td>2020</td>\n",
       "      <td>Mid Year Intake</td>\n",
       "      <td>MCW</td>\n",
       "      <td>Not entered</td>\n",
       "      <td>Not entered</td>\n",
       "    </tr>\n",
       "  </tbody>\n",
       "</table>\n",
       "<p>74398 rows × 14 columns</p>\n",
       "</div>"
      ],
      "text/plain": [
       "                     CASE_ID          STU_CITIZEN_NM         STU_ABOR_TSI_NM  \\\n",
       "0         809378|42892|53807  Temporary Entry Permit  Temporary Entry Permit   \n",
       "1         257764|62446|92576              Australian              Australian   \n",
       "2        838396|92416|142450  Temporary Entry Permit  Temporary Entry Permit   \n",
       "3        735486|18758|144154  Temporary Entry Permit  Temporary Entry Permit   \n",
       "4        502030|95557|149167              Australian              Australian   \n",
       "...                      ...                     ...                     ...   \n",
       "74393  1140088|517629|793809  Temporary Entry Permit  Temporary Entry Permit   \n",
       "74394  1098399|517631|793811  Temporary Entry Permit  Temporary Entry Permit   \n",
       "74395  1098399|517631|793812  Temporary Entry Permit  Temporary Entry Permit   \n",
       "74396   912858|517632|793813              Australian              Australian   \n",
       "74397  1140092|517633|793814  Temporary Entry Permit  Temporary Entry Permit   \n",
       "\n",
       "        SUBMISSION_METHOD                     ENTRY_TYPE  \\\n",
       "0      Online Application  Bachelor (equiv Aust 3yr deg)   \n",
       "1      Online Application          Grad Dip/Postgrad Dip   \n",
       "2      Online Application  Bachelor (equiv Aust 3yr deg)   \n",
       "3              Data Entry  Bachelor (equiv Aust 3yr deg)   \n",
       "4      Online Application                    Not entered   \n",
       "...                   ...                            ...   \n",
       "74393  Online Application                    Not entered   \n",
       "74394  Online Application  Bachelor (equiv Aust 3yr deg)   \n",
       "74395  Online Application                    Not entered   \n",
       "74396  Online Application                    Not entered   \n",
       "74397  Online Application  Bachelor (equiv Aust 3yr deg)   \n",
       "\n",
       "                 LAST_COUNTRY_EDUCATION  PREFERENCE_NO  \\\n",
       "0      China (excludes SARs and Taiwan)              1   \n",
       "1                           Not entered              1   \n",
       "2                                 Chile              1   \n",
       "3                                Mexico              1   \n",
       "4                             Australia              1   \n",
       "...                                 ...            ...   \n",
       "74393                       Not entered              2   \n",
       "74394  China (excludes SARs and Taiwan)              1   \n",
       "74395  China (excludes SARs and Taiwan)              2   \n",
       "74396                       Not entered              1   \n",
       "74397  China (excludes SARs and Taiwan)              1   \n",
       "\n",
       "                             AVAIL_ORG_UNIT_NM STUDY_MODE_CD  ORIG_AVAIL_YR  \\\n",
       "0                                         Arts           STD           2016   \n",
       "1                                          Law           STD           2016   \n",
       "2                                  Engineering           STD           2017   \n",
       "3                                  Engineering           STD           2017   \n",
       "4                                  Engineering           STD           2017   \n",
       "...                                        ...           ...            ...   \n",
       "74393                                  Science           STD           2020   \n",
       "74394                                     Arts           STD           2020   \n",
       "74395                                     Arts           STD           2020   \n",
       "74396  Medicine, Dentistry and Health Sciences           STD           2020   \n",
       "74397                   Business and Economics           STD           2020   \n",
       "\n",
       "       ORIG_STUDY_PERIOD SPK_CAT_TYPE_CD OFFER_RELEASED_FG OFFER_OUTCOME_CD  \n",
       "0        Mid Year Intake             MCW                 Y             $DEF  \n",
       "1        Mid Year Intake             PGD                 Y             $ACC  \n",
       "2      Start Year Intake             MCW                 Y             $ACC  \n",
       "3      Start Year Intake             MCW                 Y             $DEF  \n",
       "4      Start Year Intake             MCW                 Y             $ACC  \n",
       "...                  ...             ...               ...              ...  \n",
       "74393    Mid Year Intake             MCW                 Y              NaN  \n",
       "74394  Start Year Intake             MCW                 Y              NaN  \n",
       "74395  Start Year Intake             MCW       Not entered      Not entered  \n",
       "74396  Start Year Intake             MCW       Not entered      Not entered  \n",
       "74397    Mid Year Intake             MCW       Not entered      Not entered  \n",
       "\n",
       "[74398 rows x 14 columns]"
      ]
     },
     "execution_count": 43,
     "metadata": {},
     "output_type": "execute_result"
    }
   ],
   "source": [
    "PG_df1"
   ]
  },
  {
   "cell_type": "markdown",
   "metadata": {},
   "source": [
    "###### Label Encoding the Categorical Variables"
   ]
  },
  {
   "cell_type": "code",
   "execution_count": 44,
   "metadata": {},
   "outputs": [
    {
     "name": "stderr",
     "output_type": "stream",
     "text": [
      "C:\\Users\\AMAR\\Anaconda3\\lib\\site-packages\\pandas\\core\\indexing.py:966: SettingWithCopyWarning: \n",
      "A value is trying to be set on a copy of a slice from a DataFrame.\n",
      "Try using .loc[row_indexer,col_indexer] = value instead\n",
      "\n",
      "See the caveats in the documentation: https://pandas.pydata.org/pandas-docs/stable/user_guide/indexing.html#returning-a-view-versus-a-copy\n",
      "  self.obj[item] = s\n"
     ]
    }
   ],
   "source": [
    "PG_df1.iloc[:,1] = LE.fit_transform(PG_df1.iloc[:, 1].values)"
   ]
  },
  {
   "cell_type": "code",
   "execution_count": 45,
   "metadata": {},
   "outputs": [],
   "source": [
    "PG_df1.iloc[:,2] = LE.fit_transform(PG_df1.iloc[:, 2].values)"
   ]
  },
  {
   "cell_type": "code",
   "execution_count": 46,
   "metadata": {},
   "outputs": [],
   "source": [
    "PG_df1.iloc[:,3] = LE.fit_transform(PG_df1.iloc[:, 3].values)"
   ]
  },
  {
   "cell_type": "code",
   "execution_count": 47,
   "metadata": {},
   "outputs": [],
   "source": [
    "PG_df1.iloc[:,4] = LE.fit_transform(PG_df1.iloc[:, 4].values)"
   ]
  },
  {
   "cell_type": "code",
   "execution_count": 48,
   "metadata": {},
   "outputs": [],
   "source": [
    "PG_df1.iloc[:,5] = LE.fit_transform(PG_df1.iloc[:, 5].values)"
   ]
  },
  {
   "cell_type": "code",
   "execution_count": 49,
   "metadata": {},
   "outputs": [],
   "source": [
    "PG_df1.iloc[:,7] = LE.fit_transform(PG_df1.iloc[:, 7].values)"
   ]
  },
  {
   "cell_type": "code",
   "execution_count": 50,
   "metadata": {},
   "outputs": [],
   "source": [
    "PG_df1.iloc[:,8] = LE.fit_transform(PG_df1.iloc[:, 8].values)"
   ]
  },
  {
   "cell_type": "code",
   "execution_count": 51,
   "metadata": {},
   "outputs": [],
   "source": [
    "PG_df1.iloc[:,10] = LE.fit_transform(PG_df1.iloc[:, 10].values)"
   ]
  },
  {
   "cell_type": "code",
   "execution_count": 52,
   "metadata": {},
   "outputs": [],
   "source": [
    "PG_df1.iloc[:,11] = LE.fit_transform(PG_df1.iloc[:, 11].values)"
   ]
  },
  {
   "cell_type": "code",
   "execution_count": 53,
   "metadata": {},
   "outputs": [],
   "source": [
    "# Filtering out records that have there offer released \n",
    "PG_df11=PG_df1[PG_df1['OFFER_RELEASED_FG']=='Y']"
   ]
  },
  {
   "cell_type": "code",
   "execution_count": 54,
   "metadata": {},
   "outputs": [
    {
     "data": {
      "text/html": [
       "<div>\n",
       "<style scoped>\n",
       "    .dataframe tbody tr th:only-of-type {\n",
       "        vertical-align: middle;\n",
       "    }\n",
       "\n",
       "    .dataframe tbody tr th {\n",
       "        vertical-align: top;\n",
       "    }\n",
       "\n",
       "    .dataframe thead th {\n",
       "        text-align: right;\n",
       "    }\n",
       "</style>\n",
       "<table border=\"1\" class=\"dataframe\">\n",
       "  <thead>\n",
       "    <tr style=\"text-align: right;\">\n",
       "      <th></th>\n",
       "      <th>CASE_ID</th>\n",
       "      <th>STU_CITIZEN_NM</th>\n",
       "      <th>STU_ABOR_TSI_NM</th>\n",
       "      <th>SUBMISSION_METHOD</th>\n",
       "      <th>ENTRY_TYPE</th>\n",
       "      <th>LAST_COUNTRY_EDUCATION</th>\n",
       "      <th>PREFERENCE_NO</th>\n",
       "      <th>AVAIL_ORG_UNIT_NM</th>\n",
       "      <th>STUDY_MODE_CD</th>\n",
       "      <th>ORIG_AVAIL_YR</th>\n",
       "      <th>ORIG_STUDY_PERIOD</th>\n",
       "      <th>SPK_CAT_TYPE_CD</th>\n",
       "      <th>OFFER_RELEASED_FG</th>\n",
       "      <th>OFFER_OUTCOME_CD</th>\n",
       "    </tr>\n",
       "  </thead>\n",
       "  <tbody>\n",
       "    <tr>\n",
       "      <th>0</th>\n",
       "      <td>809378|42892|53807</td>\n",
       "      <td>5</td>\n",
       "      <td>5</td>\n",
       "      <td>5</td>\n",
       "      <td>3</td>\n",
       "      <td>23</td>\n",
       "      <td>1</td>\n",
       "      <td>1</td>\n",
       "      <td>3</td>\n",
       "      <td>2016</td>\n",
       "      <td>0</td>\n",
       "      <td>3</td>\n",
       "      <td>Y</td>\n",
       "      <td>$DEF</td>\n",
       "    </tr>\n",
       "    <tr>\n",
       "      <th>1</th>\n",
       "      <td>257764|62446|92576</td>\n",
       "      <td>0</td>\n",
       "      <td>0</td>\n",
       "      <td>5</td>\n",
       "      <td>7</td>\n",
       "      <td>88</td>\n",
       "      <td>1</td>\n",
       "      <td>5</td>\n",
       "      <td>3</td>\n",
       "      <td>2016</td>\n",
       "      <td>0</td>\n",
       "      <td>4</td>\n",
       "      <td>Y</td>\n",
       "      <td>$ACC</td>\n",
       "    </tr>\n",
       "    <tr>\n",
       "      <th>2</th>\n",
       "      <td>838396|92416|142450</td>\n",
       "      <td>5</td>\n",
       "      <td>5</td>\n",
       "      <td>5</td>\n",
       "      <td>3</td>\n",
       "      <td>22</td>\n",
       "      <td>1</td>\n",
       "      <td>3</td>\n",
       "      <td>3</td>\n",
       "      <td>2017</td>\n",
       "      <td>1</td>\n",
       "      <td>3</td>\n",
       "      <td>Y</td>\n",
       "      <td>$ACC</td>\n",
       "    </tr>\n",
       "    <tr>\n",
       "      <th>3</th>\n",
       "      <td>735486|18758|144154</td>\n",
       "      <td>5</td>\n",
       "      <td>5</td>\n",
       "      <td>0</td>\n",
       "      <td>3</td>\n",
       "      <td>76</td>\n",
       "      <td>1</td>\n",
       "      <td>3</td>\n",
       "      <td>3</td>\n",
       "      <td>2017</td>\n",
       "      <td>1</td>\n",
       "      <td>3</td>\n",
       "      <td>Y</td>\n",
       "      <td>$DEF</td>\n",
       "    </tr>\n",
       "    <tr>\n",
       "      <th>4</th>\n",
       "      <td>502030|95557|149167</td>\n",
       "      <td>0</td>\n",
       "      <td>0</td>\n",
       "      <td>5</td>\n",
       "      <td>10</td>\n",
       "      <td>5</td>\n",
       "      <td>1</td>\n",
       "      <td>3</td>\n",
       "      <td>3</td>\n",
       "      <td>2017</td>\n",
       "      <td>1</td>\n",
       "      <td>3</td>\n",
       "      <td>Y</td>\n",
       "      <td>$ACC</td>\n",
       "    </tr>\n",
       "    <tr>\n",
       "      <th>...</th>\n",
       "      <td>...</td>\n",
       "      <td>...</td>\n",
       "      <td>...</td>\n",
       "      <td>...</td>\n",
       "      <td>...</td>\n",
       "      <td>...</td>\n",
       "      <td>...</td>\n",
       "      <td>...</td>\n",
       "      <td>...</td>\n",
       "      <td>...</td>\n",
       "      <td>...</td>\n",
       "      <td>...</td>\n",
       "      <td>...</td>\n",
       "      <td>...</td>\n",
       "    </tr>\n",
       "    <tr>\n",
       "      <th>74388</th>\n",
       "      <td>915876|517616|793788</td>\n",
       "      <td>4</td>\n",
       "      <td>4</td>\n",
       "      <td>5</td>\n",
       "      <td>3</td>\n",
       "      <td>5</td>\n",
       "      <td>1</td>\n",
       "      <td>1</td>\n",
       "      <td>3</td>\n",
       "      <td>2020</td>\n",
       "      <td>1</td>\n",
       "      <td>3</td>\n",
       "      <td>Y</td>\n",
       "      <td>$ACC</td>\n",
       "    </tr>\n",
       "    <tr>\n",
       "      <th>74391</th>\n",
       "      <td>1140086|517624|793802</td>\n",
       "      <td>5</td>\n",
       "      <td>5</td>\n",
       "      <td>5</td>\n",
       "      <td>3</td>\n",
       "      <td>23</td>\n",
       "      <td>1</td>\n",
       "      <td>3</td>\n",
       "      <td>3</td>\n",
       "      <td>2020</td>\n",
       "      <td>0</td>\n",
       "      <td>3</td>\n",
       "      <td>Y</td>\n",
       "      <td>NaN</td>\n",
       "    </tr>\n",
       "    <tr>\n",
       "      <th>74392</th>\n",
       "      <td>1140089|517628|793807</td>\n",
       "      <td>5</td>\n",
       "      <td>5</td>\n",
       "      <td>5</td>\n",
       "      <td>3</td>\n",
       "      <td>23</td>\n",
       "      <td>1</td>\n",
       "      <td>8</td>\n",
       "      <td>3</td>\n",
       "      <td>2020</td>\n",
       "      <td>0</td>\n",
       "      <td>3</td>\n",
       "      <td>Y</td>\n",
       "      <td>NaN</td>\n",
       "    </tr>\n",
       "    <tr>\n",
       "      <th>74393</th>\n",
       "      <td>1140088|517629|793809</td>\n",
       "      <td>5</td>\n",
       "      <td>5</td>\n",
       "      <td>5</td>\n",
       "      <td>10</td>\n",
       "      <td>88</td>\n",
       "      <td>2</td>\n",
       "      <td>10</td>\n",
       "      <td>3</td>\n",
       "      <td>2020</td>\n",
       "      <td>0</td>\n",
       "      <td>3</td>\n",
       "      <td>Y</td>\n",
       "      <td>NaN</td>\n",
       "    </tr>\n",
       "    <tr>\n",
       "      <th>74394</th>\n",
       "      <td>1098399|517631|793811</td>\n",
       "      <td>5</td>\n",
       "      <td>5</td>\n",
       "      <td>5</td>\n",
       "      <td>3</td>\n",
       "      <td>23</td>\n",
       "      <td>1</td>\n",
       "      <td>1</td>\n",
       "      <td>3</td>\n",
       "      <td>2020</td>\n",
       "      <td>1</td>\n",
       "      <td>3</td>\n",
       "      <td>Y</td>\n",
       "      <td>NaN</td>\n",
       "    </tr>\n",
       "  </tbody>\n",
       "</table>\n",
       "<p>41925 rows × 14 columns</p>\n",
       "</div>"
      ],
      "text/plain": [
       "                     CASE_ID  STU_CITIZEN_NM  STU_ABOR_TSI_NM  \\\n",
       "0         809378|42892|53807               5                5   \n",
       "1         257764|62446|92576               0                0   \n",
       "2        838396|92416|142450               5                5   \n",
       "3        735486|18758|144154               5                5   \n",
       "4        502030|95557|149167               0                0   \n",
       "...                      ...             ...              ...   \n",
       "74388   915876|517616|793788               4                4   \n",
       "74391  1140086|517624|793802               5                5   \n",
       "74392  1140089|517628|793807               5                5   \n",
       "74393  1140088|517629|793809               5                5   \n",
       "74394  1098399|517631|793811               5                5   \n",
       "\n",
       "       SUBMISSION_METHOD  ENTRY_TYPE  LAST_COUNTRY_EDUCATION  PREFERENCE_NO  \\\n",
       "0                      5           3                      23              1   \n",
       "1                      5           7                      88              1   \n",
       "2                      5           3                      22              1   \n",
       "3                      0           3                      76              1   \n",
       "4                      5          10                       5              1   \n",
       "...                  ...         ...                     ...            ...   \n",
       "74388                  5           3                       5              1   \n",
       "74391                  5           3                      23              1   \n",
       "74392                  5           3                      23              1   \n",
       "74393                  5          10                      88              2   \n",
       "74394                  5           3                      23              1   \n",
       "\n",
       "       AVAIL_ORG_UNIT_NM  STUDY_MODE_CD  ORIG_AVAIL_YR  ORIG_STUDY_PERIOD  \\\n",
       "0                      1              3           2016                  0   \n",
       "1                      5              3           2016                  0   \n",
       "2                      3              3           2017                  1   \n",
       "3                      3              3           2017                  1   \n",
       "4                      3              3           2017                  1   \n",
       "...                  ...            ...            ...                ...   \n",
       "74388                  1              3           2020                  1   \n",
       "74391                  3              3           2020                  0   \n",
       "74392                  8              3           2020                  0   \n",
       "74393                 10              3           2020                  0   \n",
       "74394                  1              3           2020                  1   \n",
       "\n",
       "       SPK_CAT_TYPE_CD OFFER_RELEASED_FG OFFER_OUTCOME_CD  \n",
       "0                    3                 Y             $DEF  \n",
       "1                    4                 Y             $ACC  \n",
       "2                    3                 Y             $ACC  \n",
       "3                    3                 Y             $DEF  \n",
       "4                    3                 Y             $ACC  \n",
       "...                ...               ...              ...  \n",
       "74388                3                 Y             $ACC  \n",
       "74391                3                 Y              NaN  \n",
       "74392                3                 Y              NaN  \n",
       "74393                3                 Y              NaN  \n",
       "74394                3                 Y              NaN  \n",
       "\n",
       "[41925 rows x 14 columns]"
      ]
     },
     "execution_count": 54,
     "metadata": {},
     "output_type": "execute_result"
    }
   ],
   "source": [
    "PG_df11"
   ]
  },
  {
   "cell_type": "code",
   "execution_count": 55,
   "metadata": {},
   "outputs": [
    {
     "name": "stderr",
     "output_type": "stream",
     "text": [
      "C:\\Users\\AMAR\\Anaconda3\\lib\\site-packages\\pandas\\core\\indexing.py:966: SettingWithCopyWarning: \n",
      "A value is trying to be set on a copy of a slice from a DataFrame.\n",
      "Try using .loc[row_indexer,col_indexer] = value instead\n",
      "\n",
      "See the caveats in the documentation: https://pandas.pydata.org/pandas-docs/stable/user_guide/indexing.html#returning-a-view-versus-a-copy\n",
      "  self.obj[item] = s\n"
     ]
    }
   ],
   "source": [
    "PG_df11.iloc[:,12] = LE.fit_transform(PG_df11.iloc[:, 12].values)"
   ]
  },
  {
   "cell_type": "code",
   "execution_count": 56,
   "metadata": {},
   "outputs": [
    {
     "data": {
      "text/plain": [
       "CASE_ID                   object\n",
       "STU_CITIZEN_NM             int32\n",
       "STU_ABOR_TSI_NM            int32\n",
       "SUBMISSION_METHOD          int32\n",
       "ENTRY_TYPE                 int32\n",
       "LAST_COUNTRY_EDUCATION     int32\n",
       "PREFERENCE_NO              int64\n",
       "AVAIL_ORG_UNIT_NM          int32\n",
       "STUDY_MODE_CD              int32\n",
       "ORIG_AVAIL_YR              int64\n",
       "ORIG_STUDY_PERIOD          int32\n",
       "SPK_CAT_TYPE_CD            int32\n",
       "OFFER_RELEASED_FG          int32\n",
       "OFFER_OUTCOME_CD          object\n",
       "dtype: object"
      ]
     },
     "execution_count": 56,
     "metadata": {},
     "output_type": "execute_result"
    }
   ],
   "source": [
    "PG_df11.dtypes"
   ]
  },
  {
   "cell_type": "code",
   "execution_count": 57,
   "metadata": {},
   "outputs": [
    {
     "name": "stderr",
     "output_type": "stream",
     "text": [
      "C:\\Users\\AMAR\\Anaconda3\\lib\\site-packages\\pandas\\core\\generic.py:6245: SettingWithCopyWarning: \n",
      "A value is trying to be set on a copy of a slice from a DataFrame\n",
      "\n",
      "See the caveats in the documentation: https://pandas.pydata.org/pandas-docs/stable/user_guide/indexing.html#returning-a-view-versus-a-copy\n",
      "  self._update_inplace(new_data)\n"
     ]
    }
   ],
   "source": [
    "# Filtering null values with $NOT\n",
    "PG_df11['OFFER_OUTCOME_CD'].fillna('$NOT', inplace = True)"
   ]
  },
  {
   "cell_type": "code",
   "execution_count": 58,
   "metadata": {},
   "outputs": [
    {
     "data": {
      "text/html": [
       "<div>\n",
       "<style scoped>\n",
       "    .dataframe tbody tr th:only-of-type {\n",
       "        vertical-align: middle;\n",
       "    }\n",
       "\n",
       "    .dataframe tbody tr th {\n",
       "        vertical-align: top;\n",
       "    }\n",
       "\n",
       "    .dataframe thead th {\n",
       "        text-align: right;\n",
       "    }\n",
       "</style>\n",
       "<table border=\"1\" class=\"dataframe\">\n",
       "  <thead>\n",
       "    <tr style=\"text-align: right;\">\n",
       "      <th></th>\n",
       "      <th>CASE_ID</th>\n",
       "      <th>STU_CITIZEN_NM</th>\n",
       "      <th>STU_ABOR_TSI_NM</th>\n",
       "      <th>SUBMISSION_METHOD</th>\n",
       "      <th>ENTRY_TYPE</th>\n",
       "      <th>LAST_COUNTRY_EDUCATION</th>\n",
       "      <th>PREFERENCE_NO</th>\n",
       "      <th>AVAIL_ORG_UNIT_NM</th>\n",
       "      <th>STUDY_MODE_CD</th>\n",
       "      <th>ORIG_AVAIL_YR</th>\n",
       "      <th>ORIG_STUDY_PERIOD</th>\n",
       "      <th>SPK_CAT_TYPE_CD</th>\n",
       "      <th>OFFER_RELEASED_FG</th>\n",
       "      <th>OFFER_OUTCOME_CD</th>\n",
       "    </tr>\n",
       "  </thead>\n",
       "  <tbody>\n",
       "    <tr>\n",
       "      <th>0</th>\n",
       "      <td>809378|42892|53807</td>\n",
       "      <td>5</td>\n",
       "      <td>5</td>\n",
       "      <td>5</td>\n",
       "      <td>3</td>\n",
       "      <td>23</td>\n",
       "      <td>1</td>\n",
       "      <td>1</td>\n",
       "      <td>3</td>\n",
       "      <td>2016</td>\n",
       "      <td>0</td>\n",
       "      <td>3</td>\n",
       "      <td>0</td>\n",
       "      <td>$DEF</td>\n",
       "    </tr>\n",
       "    <tr>\n",
       "      <th>1</th>\n",
       "      <td>257764|62446|92576</td>\n",
       "      <td>0</td>\n",
       "      <td>0</td>\n",
       "      <td>5</td>\n",
       "      <td>7</td>\n",
       "      <td>88</td>\n",
       "      <td>1</td>\n",
       "      <td>5</td>\n",
       "      <td>3</td>\n",
       "      <td>2016</td>\n",
       "      <td>0</td>\n",
       "      <td>4</td>\n",
       "      <td>0</td>\n",
       "      <td>$ACC</td>\n",
       "    </tr>\n",
       "    <tr>\n",
       "      <th>2</th>\n",
       "      <td>838396|92416|142450</td>\n",
       "      <td>5</td>\n",
       "      <td>5</td>\n",
       "      <td>5</td>\n",
       "      <td>3</td>\n",
       "      <td>22</td>\n",
       "      <td>1</td>\n",
       "      <td>3</td>\n",
       "      <td>3</td>\n",
       "      <td>2017</td>\n",
       "      <td>1</td>\n",
       "      <td>3</td>\n",
       "      <td>0</td>\n",
       "      <td>$ACC</td>\n",
       "    </tr>\n",
       "    <tr>\n",
       "      <th>3</th>\n",
       "      <td>735486|18758|144154</td>\n",
       "      <td>5</td>\n",
       "      <td>5</td>\n",
       "      <td>0</td>\n",
       "      <td>3</td>\n",
       "      <td>76</td>\n",
       "      <td>1</td>\n",
       "      <td>3</td>\n",
       "      <td>3</td>\n",
       "      <td>2017</td>\n",
       "      <td>1</td>\n",
       "      <td>3</td>\n",
       "      <td>0</td>\n",
       "      <td>$DEF</td>\n",
       "    </tr>\n",
       "    <tr>\n",
       "      <th>4</th>\n",
       "      <td>502030|95557|149167</td>\n",
       "      <td>0</td>\n",
       "      <td>0</td>\n",
       "      <td>5</td>\n",
       "      <td>10</td>\n",
       "      <td>5</td>\n",
       "      <td>1</td>\n",
       "      <td>3</td>\n",
       "      <td>3</td>\n",
       "      <td>2017</td>\n",
       "      <td>1</td>\n",
       "      <td>3</td>\n",
       "      <td>0</td>\n",
       "      <td>$ACC</td>\n",
       "    </tr>\n",
       "    <tr>\n",
       "      <th>...</th>\n",
       "      <td>...</td>\n",
       "      <td>...</td>\n",
       "      <td>...</td>\n",
       "      <td>...</td>\n",
       "      <td>...</td>\n",
       "      <td>...</td>\n",
       "      <td>...</td>\n",
       "      <td>...</td>\n",
       "      <td>...</td>\n",
       "      <td>...</td>\n",
       "      <td>...</td>\n",
       "      <td>...</td>\n",
       "      <td>...</td>\n",
       "      <td>...</td>\n",
       "    </tr>\n",
       "    <tr>\n",
       "      <th>74388</th>\n",
       "      <td>915876|517616|793788</td>\n",
       "      <td>4</td>\n",
       "      <td>4</td>\n",
       "      <td>5</td>\n",
       "      <td>3</td>\n",
       "      <td>5</td>\n",
       "      <td>1</td>\n",
       "      <td>1</td>\n",
       "      <td>3</td>\n",
       "      <td>2020</td>\n",
       "      <td>1</td>\n",
       "      <td>3</td>\n",
       "      <td>0</td>\n",
       "      <td>$ACC</td>\n",
       "    </tr>\n",
       "    <tr>\n",
       "      <th>74391</th>\n",
       "      <td>1140086|517624|793802</td>\n",
       "      <td>5</td>\n",
       "      <td>5</td>\n",
       "      <td>5</td>\n",
       "      <td>3</td>\n",
       "      <td>23</td>\n",
       "      <td>1</td>\n",
       "      <td>3</td>\n",
       "      <td>3</td>\n",
       "      <td>2020</td>\n",
       "      <td>0</td>\n",
       "      <td>3</td>\n",
       "      <td>0</td>\n",
       "      <td>$NOT</td>\n",
       "    </tr>\n",
       "    <tr>\n",
       "      <th>74392</th>\n",
       "      <td>1140089|517628|793807</td>\n",
       "      <td>5</td>\n",
       "      <td>5</td>\n",
       "      <td>5</td>\n",
       "      <td>3</td>\n",
       "      <td>23</td>\n",
       "      <td>1</td>\n",
       "      <td>8</td>\n",
       "      <td>3</td>\n",
       "      <td>2020</td>\n",
       "      <td>0</td>\n",
       "      <td>3</td>\n",
       "      <td>0</td>\n",
       "      <td>$NOT</td>\n",
       "    </tr>\n",
       "    <tr>\n",
       "      <th>74393</th>\n",
       "      <td>1140088|517629|793809</td>\n",
       "      <td>5</td>\n",
       "      <td>5</td>\n",
       "      <td>5</td>\n",
       "      <td>10</td>\n",
       "      <td>88</td>\n",
       "      <td>2</td>\n",
       "      <td>10</td>\n",
       "      <td>3</td>\n",
       "      <td>2020</td>\n",
       "      <td>0</td>\n",
       "      <td>3</td>\n",
       "      <td>0</td>\n",
       "      <td>$NOT</td>\n",
       "    </tr>\n",
       "    <tr>\n",
       "      <th>74394</th>\n",
       "      <td>1098399|517631|793811</td>\n",
       "      <td>5</td>\n",
       "      <td>5</td>\n",
       "      <td>5</td>\n",
       "      <td>3</td>\n",
       "      <td>23</td>\n",
       "      <td>1</td>\n",
       "      <td>1</td>\n",
       "      <td>3</td>\n",
       "      <td>2020</td>\n",
       "      <td>1</td>\n",
       "      <td>3</td>\n",
       "      <td>0</td>\n",
       "      <td>$NOT</td>\n",
       "    </tr>\n",
       "  </tbody>\n",
       "</table>\n",
       "<p>41925 rows × 14 columns</p>\n",
       "</div>"
      ],
      "text/plain": [
       "                     CASE_ID  STU_CITIZEN_NM  STU_ABOR_TSI_NM  \\\n",
       "0         809378|42892|53807               5                5   \n",
       "1         257764|62446|92576               0                0   \n",
       "2        838396|92416|142450               5                5   \n",
       "3        735486|18758|144154               5                5   \n",
       "4        502030|95557|149167               0                0   \n",
       "...                      ...             ...              ...   \n",
       "74388   915876|517616|793788               4                4   \n",
       "74391  1140086|517624|793802               5                5   \n",
       "74392  1140089|517628|793807               5                5   \n",
       "74393  1140088|517629|793809               5                5   \n",
       "74394  1098399|517631|793811               5                5   \n",
       "\n",
       "       SUBMISSION_METHOD  ENTRY_TYPE  LAST_COUNTRY_EDUCATION  PREFERENCE_NO  \\\n",
       "0                      5           3                      23              1   \n",
       "1                      5           7                      88              1   \n",
       "2                      5           3                      22              1   \n",
       "3                      0           3                      76              1   \n",
       "4                      5          10                       5              1   \n",
       "...                  ...         ...                     ...            ...   \n",
       "74388                  5           3                       5              1   \n",
       "74391                  5           3                      23              1   \n",
       "74392                  5           3                      23              1   \n",
       "74393                  5          10                      88              2   \n",
       "74394                  5           3                      23              1   \n",
       "\n",
       "       AVAIL_ORG_UNIT_NM  STUDY_MODE_CD  ORIG_AVAIL_YR  ORIG_STUDY_PERIOD  \\\n",
       "0                      1              3           2016                  0   \n",
       "1                      5              3           2016                  0   \n",
       "2                      3              3           2017                  1   \n",
       "3                      3              3           2017                  1   \n",
       "4                      3              3           2017                  1   \n",
       "...                  ...            ...            ...                ...   \n",
       "74388                  1              3           2020                  1   \n",
       "74391                  3              3           2020                  0   \n",
       "74392                  8              3           2020                  0   \n",
       "74393                 10              3           2020                  0   \n",
       "74394                  1              3           2020                  1   \n",
       "\n",
       "       SPK_CAT_TYPE_CD  OFFER_RELEASED_FG OFFER_OUTCOME_CD  \n",
       "0                    3                  0             $DEF  \n",
       "1                    4                  0             $ACC  \n",
       "2                    3                  0             $ACC  \n",
       "3                    3                  0             $DEF  \n",
       "4                    3                  0             $ACC  \n",
       "...                ...                ...              ...  \n",
       "74388                3                  0             $ACC  \n",
       "74391                3                  0             $NOT  \n",
       "74392                3                  0             $NOT  \n",
       "74393                3                  0             $NOT  \n",
       "74394                3                  0             $NOT  \n",
       "\n",
       "[41925 rows x 14 columns]"
      ]
     },
     "execution_count": 58,
     "metadata": {},
     "output_type": "execute_result"
    }
   ],
   "source": [
    "PG_df11"
   ]
  },
  {
   "cell_type": "code",
   "execution_count": 59,
   "metadata": {},
   "outputs": [
    {
     "name": "stderr",
     "output_type": "stream",
     "text": [
      "C:\\Users\\AMAR\\Anaconda3\\lib\\site-packages\\pandas\\core\\indexing.py:966: SettingWithCopyWarning: \n",
      "A value is trying to be set on a copy of a slice from a DataFrame.\n",
      "Try using .loc[row_indexer,col_indexer] = value instead\n",
      "\n",
      "See the caveats in the documentation: https://pandas.pydata.org/pandas-docs/stable/user_guide/indexing.html#returning-a-view-versus-a-copy\n",
      "  self.obj[item] = s\n"
     ]
    }
   ],
   "source": [
    "PG_df11.iloc[:,13] = LE.fit_transform(PG_df11.iloc[:, 13].values)"
   ]
  },
  {
   "cell_type": "code",
   "execution_count": 60,
   "metadata": {},
   "outputs": [
    {
     "data": {
      "text/html": [
       "<div>\n",
       "<style scoped>\n",
       "    .dataframe tbody tr th:only-of-type {\n",
       "        vertical-align: middle;\n",
       "    }\n",
       "\n",
       "    .dataframe tbody tr th {\n",
       "        vertical-align: top;\n",
       "    }\n",
       "\n",
       "    .dataframe thead th {\n",
       "        text-align: right;\n",
       "    }\n",
       "</style>\n",
       "<table border=\"1\" class=\"dataframe\">\n",
       "  <thead>\n",
       "    <tr style=\"text-align: right;\">\n",
       "      <th></th>\n",
       "      <th>CASE_ID</th>\n",
       "      <th>STU_CITIZEN_NM</th>\n",
       "      <th>STU_ABOR_TSI_NM</th>\n",
       "      <th>SUBMISSION_METHOD</th>\n",
       "      <th>ENTRY_TYPE</th>\n",
       "      <th>LAST_COUNTRY_EDUCATION</th>\n",
       "      <th>PREFERENCE_NO</th>\n",
       "      <th>AVAIL_ORG_UNIT_NM</th>\n",
       "      <th>STUDY_MODE_CD</th>\n",
       "      <th>ORIG_AVAIL_YR</th>\n",
       "      <th>ORIG_STUDY_PERIOD</th>\n",
       "      <th>SPK_CAT_TYPE_CD</th>\n",
       "      <th>OFFER_RELEASED_FG</th>\n",
       "      <th>OFFER_OUTCOME_CD</th>\n",
       "    </tr>\n",
       "  </thead>\n",
       "  <tbody>\n",
       "    <tr>\n",
       "      <th>0</th>\n",
       "      <td>809378|42892|53807</td>\n",
       "      <td>5</td>\n",
       "      <td>5</td>\n",
       "      <td>5</td>\n",
       "      <td>3</td>\n",
       "      <td>23</td>\n",
       "      <td>1</td>\n",
       "      <td>1</td>\n",
       "      <td>3</td>\n",
       "      <td>2016</td>\n",
       "      <td>0</td>\n",
       "      <td>3</td>\n",
       "      <td>0</td>\n",
       "      <td>2</td>\n",
       "    </tr>\n",
       "    <tr>\n",
       "      <th>1</th>\n",
       "      <td>257764|62446|92576</td>\n",
       "      <td>0</td>\n",
       "      <td>0</td>\n",
       "      <td>5</td>\n",
       "      <td>7</td>\n",
       "      <td>88</td>\n",
       "      <td>1</td>\n",
       "      <td>5</td>\n",
       "      <td>3</td>\n",
       "      <td>2016</td>\n",
       "      <td>0</td>\n",
       "      <td>4</td>\n",
       "      <td>0</td>\n",
       "      <td>0</td>\n",
       "    </tr>\n",
       "    <tr>\n",
       "      <th>2</th>\n",
       "      <td>838396|92416|142450</td>\n",
       "      <td>5</td>\n",
       "      <td>5</td>\n",
       "      <td>5</td>\n",
       "      <td>3</td>\n",
       "      <td>22</td>\n",
       "      <td>1</td>\n",
       "      <td>3</td>\n",
       "      <td>3</td>\n",
       "      <td>2017</td>\n",
       "      <td>1</td>\n",
       "      <td>3</td>\n",
       "      <td>0</td>\n",
       "      <td>0</td>\n",
       "    </tr>\n",
       "    <tr>\n",
       "      <th>3</th>\n",
       "      <td>735486|18758|144154</td>\n",
       "      <td>5</td>\n",
       "      <td>5</td>\n",
       "      <td>0</td>\n",
       "      <td>3</td>\n",
       "      <td>76</td>\n",
       "      <td>1</td>\n",
       "      <td>3</td>\n",
       "      <td>3</td>\n",
       "      <td>2017</td>\n",
       "      <td>1</td>\n",
       "      <td>3</td>\n",
       "      <td>0</td>\n",
       "      <td>2</td>\n",
       "    </tr>\n",
       "    <tr>\n",
       "      <th>4</th>\n",
       "      <td>502030|95557|149167</td>\n",
       "      <td>0</td>\n",
       "      <td>0</td>\n",
       "      <td>5</td>\n",
       "      <td>10</td>\n",
       "      <td>5</td>\n",
       "      <td>1</td>\n",
       "      <td>3</td>\n",
       "      <td>3</td>\n",
       "      <td>2017</td>\n",
       "      <td>1</td>\n",
       "      <td>3</td>\n",
       "      <td>0</td>\n",
       "      <td>0</td>\n",
       "    </tr>\n",
       "    <tr>\n",
       "      <th>...</th>\n",
       "      <td>...</td>\n",
       "      <td>...</td>\n",
       "      <td>...</td>\n",
       "      <td>...</td>\n",
       "      <td>...</td>\n",
       "      <td>...</td>\n",
       "      <td>...</td>\n",
       "      <td>...</td>\n",
       "      <td>...</td>\n",
       "      <td>...</td>\n",
       "      <td>...</td>\n",
       "      <td>...</td>\n",
       "      <td>...</td>\n",
       "      <td>...</td>\n",
       "    </tr>\n",
       "    <tr>\n",
       "      <th>74388</th>\n",
       "      <td>915876|517616|793788</td>\n",
       "      <td>4</td>\n",
       "      <td>4</td>\n",
       "      <td>5</td>\n",
       "      <td>3</td>\n",
       "      <td>5</td>\n",
       "      <td>1</td>\n",
       "      <td>1</td>\n",
       "      <td>3</td>\n",
       "      <td>2020</td>\n",
       "      <td>1</td>\n",
       "      <td>3</td>\n",
       "      <td>0</td>\n",
       "      <td>0</td>\n",
       "    </tr>\n",
       "    <tr>\n",
       "      <th>74391</th>\n",
       "      <td>1140086|517624|793802</td>\n",
       "      <td>5</td>\n",
       "      <td>5</td>\n",
       "      <td>5</td>\n",
       "      <td>3</td>\n",
       "      <td>23</td>\n",
       "      <td>1</td>\n",
       "      <td>3</td>\n",
       "      <td>3</td>\n",
       "      <td>2020</td>\n",
       "      <td>0</td>\n",
       "      <td>3</td>\n",
       "      <td>0</td>\n",
       "      <td>4</td>\n",
       "    </tr>\n",
       "    <tr>\n",
       "      <th>74392</th>\n",
       "      <td>1140089|517628|793807</td>\n",
       "      <td>5</td>\n",
       "      <td>5</td>\n",
       "      <td>5</td>\n",
       "      <td>3</td>\n",
       "      <td>23</td>\n",
       "      <td>1</td>\n",
       "      <td>8</td>\n",
       "      <td>3</td>\n",
       "      <td>2020</td>\n",
       "      <td>0</td>\n",
       "      <td>3</td>\n",
       "      <td>0</td>\n",
       "      <td>4</td>\n",
       "    </tr>\n",
       "    <tr>\n",
       "      <th>74393</th>\n",
       "      <td>1140088|517629|793809</td>\n",
       "      <td>5</td>\n",
       "      <td>5</td>\n",
       "      <td>5</td>\n",
       "      <td>10</td>\n",
       "      <td>88</td>\n",
       "      <td>2</td>\n",
       "      <td>10</td>\n",
       "      <td>3</td>\n",
       "      <td>2020</td>\n",
       "      <td>0</td>\n",
       "      <td>3</td>\n",
       "      <td>0</td>\n",
       "      <td>4</td>\n",
       "    </tr>\n",
       "    <tr>\n",
       "      <th>74394</th>\n",
       "      <td>1098399|517631|793811</td>\n",
       "      <td>5</td>\n",
       "      <td>5</td>\n",
       "      <td>5</td>\n",
       "      <td>3</td>\n",
       "      <td>23</td>\n",
       "      <td>1</td>\n",
       "      <td>1</td>\n",
       "      <td>3</td>\n",
       "      <td>2020</td>\n",
       "      <td>1</td>\n",
       "      <td>3</td>\n",
       "      <td>0</td>\n",
       "      <td>4</td>\n",
       "    </tr>\n",
       "  </tbody>\n",
       "</table>\n",
       "<p>41925 rows × 14 columns</p>\n",
       "</div>"
      ],
      "text/plain": [
       "                     CASE_ID  STU_CITIZEN_NM  STU_ABOR_TSI_NM  \\\n",
       "0         809378|42892|53807               5                5   \n",
       "1         257764|62446|92576               0                0   \n",
       "2        838396|92416|142450               5                5   \n",
       "3        735486|18758|144154               5                5   \n",
       "4        502030|95557|149167               0                0   \n",
       "...                      ...             ...              ...   \n",
       "74388   915876|517616|793788               4                4   \n",
       "74391  1140086|517624|793802               5                5   \n",
       "74392  1140089|517628|793807               5                5   \n",
       "74393  1140088|517629|793809               5                5   \n",
       "74394  1098399|517631|793811               5                5   \n",
       "\n",
       "       SUBMISSION_METHOD  ENTRY_TYPE  LAST_COUNTRY_EDUCATION  PREFERENCE_NO  \\\n",
       "0                      5           3                      23              1   \n",
       "1                      5           7                      88              1   \n",
       "2                      5           3                      22              1   \n",
       "3                      0           3                      76              1   \n",
       "4                      5          10                       5              1   \n",
       "...                  ...         ...                     ...            ...   \n",
       "74388                  5           3                       5              1   \n",
       "74391                  5           3                      23              1   \n",
       "74392                  5           3                      23              1   \n",
       "74393                  5          10                      88              2   \n",
       "74394                  5           3                      23              1   \n",
       "\n",
       "       AVAIL_ORG_UNIT_NM  STUDY_MODE_CD  ORIG_AVAIL_YR  ORIG_STUDY_PERIOD  \\\n",
       "0                      1              3           2016                  0   \n",
       "1                      5              3           2016                  0   \n",
       "2                      3              3           2017                  1   \n",
       "3                      3              3           2017                  1   \n",
       "4                      3              3           2017                  1   \n",
       "...                  ...            ...            ...                ...   \n",
       "74388                  1              3           2020                  1   \n",
       "74391                  3              3           2020                  0   \n",
       "74392                  8              3           2020                  0   \n",
       "74393                 10              3           2020                  0   \n",
       "74394                  1              3           2020                  1   \n",
       "\n",
       "       SPK_CAT_TYPE_CD  OFFER_RELEASED_FG  OFFER_OUTCOME_CD  \n",
       "0                    3                  0                 2  \n",
       "1                    4                  0                 0  \n",
       "2                    3                  0                 0  \n",
       "3                    3                  0                 2  \n",
       "4                    3                  0                 0  \n",
       "...                ...                ...               ...  \n",
       "74388                3                  0                 0  \n",
       "74391                3                  0                 4  \n",
       "74392                3                  0                 4  \n",
       "74393                3                  0                 4  \n",
       "74394                3                  0                 4  \n",
       "\n",
       "[41925 rows x 14 columns]"
      ]
     },
     "execution_count": 60,
     "metadata": {},
     "output_type": "execute_result"
    }
   ],
   "source": [
    "PG_df11"
   ]
  },
  {
   "cell_type": "code",
   "execution_count": 61,
   "metadata": {},
   "outputs": [],
   "source": [
    "X =PG_df11.iloc[:,1:13].values\n",
    "Y =PG_df11.iloc[:,13].values "
   ]
  },
  {
   "cell_type": "code",
   "execution_count": 62,
   "metadata": {},
   "outputs": [],
   "source": [
    "#spliting dataset\n",
    "x_train,x_test,y_train,y_test=train_test_split(X,Y,test_size = 0.3,random_state=0)"
   ]
  },
  {
   "cell_type": "code",
   "execution_count": 63,
   "metadata": {},
   "outputs": [],
   "source": [
    "# Logistic Regression\n",
    "lr = LogisticRegression()"
   ]
  },
  {
   "cell_type": "code",
   "execution_count": 64,
   "metadata": {},
   "outputs": [
    {
     "name": "stderr",
     "output_type": "stream",
     "text": [
      "C:\\Users\\AMAR\\Anaconda3\\lib\\site-packages\\sklearn\\linear_model\\logistic.py:433: FutureWarning: Default solver will be changed to 'lbfgs' in 0.22. Specify a solver to silence this warning.\n",
      "  FutureWarning)\n",
      "C:\\Users\\AMAR\\Anaconda3\\lib\\site-packages\\sklearn\\linear_model\\logistic.py:460: FutureWarning: Default multi_class will be changed to 'auto' in 0.22. Specify the multi_class option to silence this warning.\n",
      "  \"this warning.\", FutureWarning)\n"
     ]
    },
    {
     "data": {
      "text/plain": [
       "LogisticRegression(C=1.0, class_weight=None, dual=False, fit_intercept=True,\n",
       "          intercept_scaling=1, max_iter=100, multi_class='warn',\n",
       "          n_jobs=None, penalty='l2', random_state=None, solver='warn',\n",
       "          tol=0.0001, verbose=0, warm_start=False)"
      ]
     },
     "execution_count": 64,
     "metadata": {},
     "output_type": "execute_result"
    }
   ],
   "source": [
    "lr.fit(x_train,y_train)"
   ]
  },
  {
   "cell_type": "code",
   "execution_count": 65,
   "metadata": {},
   "outputs": [
    {
     "name": "stdout",
     "output_type": "stream",
     "text": [
      "accuracy: 54.74%\n"
     ]
    }
   ],
   "source": [
    "lr_predict=lr.predict(x_test)\n",
    "print(\"accuracy: {}%\".format(round(accuracy_score(y_test, lr_predict)*100,2)))"
   ]
  },
  {
   "cell_type": "code",
   "execution_count": 66,
   "metadata": {},
   "outputs": [
    {
     "name": "stdout",
     "output_type": "stream",
     "text": [
      "Accuracy: 54.74%\n",
      "\n",
      " Confusion Matrix : \n",
      "\n",
      "[[   0  531]\n",
      " [   0 4604]]\n",
      "\n",
      "Performance on offer outcome with prerequisite:\n",
      "Precision = 0.5473843218317698\n",
      "Recall    = 0.5473843218317698\n",
      "F1        = 0.5473843218317698\n"
     ]
    }
   ],
   "source": [
    "#Confusion Matrix, f1_score, precision, recall calculation\n",
    "score=accuracy_score(y_test,lr_predict)\n",
    "print(f'Accuracy: {round(score*100,2)}%')\n",
    "\n",
    "cm=confusion_matrix(y_test,lr_predict, labels=[1,0])\n",
    "print (\"\\n Confusion Matrix : \\n\")\n",
    "print (cm)\n",
    "\n",
    "p, r, f, _ = precision_recall_fscore_support(y_test,lr_predict, pos_label=1, average=\"micro\");\n",
    "\n",
    "print(\"\\nPerformance on offer outcome with prerequisite:\")\n",
    "print(\"Precision =\", p)\n",
    "print(\"Recall    =\", r)\n",
    "print(\"F1        =\", f)"
   ]
  },
  {
   "cell_type": "code",
   "execution_count": 67,
   "metadata": {
    "scrolled": true
   },
   "outputs": [
    {
     "data": {
      "text/plain": [
       "array([0, 0, 4, ..., 0, 0, 0])"
      ]
     },
     "execution_count": 67,
     "metadata": {},
     "output_type": "execute_result"
    }
   ],
   "source": [
    "lr_predict"
   ]
  },
  {
   "cell_type": "code",
   "execution_count": 68,
   "metadata": {},
   "outputs": [
    {
     "name": "stderr",
     "output_type": "stream",
     "text": [
      "C:\\Users\\AMAR\\Anaconda3\\lib\\site-packages\\sklearn\\svm\\base.py:922: ConvergenceWarning: Liblinear failed to converge, increase the number of iterations.\n",
      "  \"the number of iterations.\", ConvergenceWarning)\n"
     ]
    },
    {
     "data": {
      "text/plain": [
       "LinearSVC(C=1.0, class_weight=None, dual=True, fit_intercept=True,\n",
       "     intercept_scaling=1, loss='squared_hinge', max_iter=1000,\n",
       "     multi_class='ovr', penalty='l2', random_state=None, tol=0.0001,\n",
       "     verbose=0)"
      ]
     },
     "execution_count": 68,
     "metadata": {},
     "output_type": "execute_result"
    }
   ],
   "source": [
    "# Linear SVM\n",
    "svm = LinearSVC()\n",
    "svm.fit(x_train, y_train)"
   ]
  },
  {
   "cell_type": "code",
   "execution_count": 69,
   "metadata": {},
   "outputs": [
    {
     "name": "stdout",
     "output_type": "stream",
     "text": [
      "accuracy: 31.37%\n"
     ]
    }
   ],
   "source": [
    "svm_predict = svm.predict(x_test)\n",
    "print(\"accuracy: {}%\".format(round(accuracy_score(y_test, svm_predict)*100,2)))"
   ]
  },
  {
   "cell_type": "code",
   "execution_count": 70,
   "metadata": {},
   "outputs": [
    {
     "name": "stderr",
     "output_type": "stream",
     "text": [
      "C:\\Users\\AMAR\\Anaconda3\\lib\\site-packages\\sklearn\\svm\\base.py:196: FutureWarning: The default value of gamma will change from 'auto' to 'scale' in version 0.22 to account better for unscaled features. Set gamma explicitly to 'auto' or 'scale' to avoid this warning.\n",
      "  \"avoid this warning.\", FutureWarning)\n"
     ]
    },
    {
     "data": {
      "text/plain": [
       "SVC(C=1.0, cache_size=200, class_weight=None, coef0=0.0,\n",
       "  decision_function_shape='ovr', degree=3, gamma='auto_deprecated',\n",
       "  kernel='rbf', max_iter=-1, probability=False, random_state=None,\n",
       "  shrinking=True, tol=0.001, verbose=False)"
      ]
     },
     "execution_count": 70,
     "metadata": {},
     "output_type": "execute_result"
    }
   ],
   "source": [
    "# SVC\n",
    "svc = SVC()\n",
    "svc.fit(x_train, y_train)"
   ]
  },
  {
   "cell_type": "code",
   "execution_count": 71,
   "metadata": {},
   "outputs": [
    {
     "name": "stdout",
     "output_type": "stream",
     "text": [
      "accuracy: 58.27%\n"
     ]
    }
   ],
   "source": [
    "svc_predict = svc.predict(x_test)\n",
    "print(\"accuracy: {}%\".format(round(accuracy_score(y_test, svc_predict)*100,2)))"
   ]
  },
  {
   "cell_type": "code",
   "execution_count": 72,
   "metadata": {},
   "outputs": [
    {
     "data": {
      "text/plain": [
       "MultinomialNB(alpha=1.0, class_prior=None, fit_prior=True)"
      ]
     },
     "execution_count": 72,
     "metadata": {},
     "output_type": "execute_result"
    }
   ],
   "source": [
    "# Multinomial Naive Bayes \n",
    "mnb = MultinomialNB()\n",
    "mnb.fit(x_train, y_train)"
   ]
  },
  {
   "cell_type": "code",
   "execution_count": 73,
   "metadata": {},
   "outputs": [
    {
     "name": "stdout",
     "output_type": "stream",
     "text": [
      "accuracy: 33.38%\n"
     ]
    }
   ],
   "source": [
    "mnb_predict = mnb.predict(x_test)\n",
    "print(\"accuracy: {}%\".format(round(accuracy_score(y_test, mnb_predict)*100,2)))"
   ]
  },
  {
   "cell_type": "code",
   "execution_count": 74,
   "metadata": {},
   "outputs": [
    {
     "data": {
      "text/plain": [
       "BernoulliNB(alpha=1.0, binarize=0.0, class_prior=None, fit_prior=True)"
      ]
     },
     "execution_count": 74,
     "metadata": {},
     "output_type": "execute_result"
    }
   ],
   "source": [
    "# Bernoulli Naive Bayes\n",
    "bnb = BernoulliNB()\n",
    "bnb.fit(x_train, y_train)"
   ]
  },
  {
   "cell_type": "code",
   "execution_count": 75,
   "metadata": {},
   "outputs": [
    {
     "name": "stdout",
     "output_type": "stream",
     "text": [
      "accuracy: 53.04%\n"
     ]
    }
   ],
   "source": [
    "bnb_predict = bnb.predict(x_test)\n",
    "print(\"accuracy: {}%\".format(round(accuracy_score(y_test, bnb_predict)*100,2)))"
   ]
  },
  {
   "cell_type": "code",
   "execution_count": 76,
   "metadata": {},
   "outputs": [
    {
     "data": {
      "text/plain": [
       "KNeighborsClassifier(algorithm='auto', leaf_size=30, metric='minkowski',\n",
       "           metric_params=None, n_jobs=None, n_neighbors=5, p=2,\n",
       "           weights='uniform')"
      ]
     },
     "execution_count": 76,
     "metadata": {},
     "output_type": "execute_result"
    }
   ],
   "source": [
    "# K Nearest Neighbors\n",
    "Knn = KNeighborsClassifier()\n",
    "Knn.fit(x_train,y_train)"
   ]
  },
  {
   "cell_type": "code",
   "execution_count": 77,
   "metadata": {},
   "outputs": [
    {
     "name": "stdout",
     "output_type": "stream",
     "text": [
      "accuracy: 54.96%\n"
     ]
    }
   ],
   "source": [
    "knn_predict=Knn.predict(x_test)\n",
    "print(\"accuracy: {}%\".format(round(accuracy_score(y_test, knn_predict)*100,2)))"
   ]
  },
  {
   "cell_type": "code",
   "execution_count": 78,
   "metadata": {},
   "outputs": [
    {
     "data": {
      "text/plain": [
       "DecisionTreeClassifier(class_weight=None, criterion='gini', max_depth=None,\n",
       "            max_features=None, max_leaf_nodes=None,\n",
       "            min_impurity_decrease=0.0, min_impurity_split=None,\n",
       "            min_samples_leaf=1, min_samples_split=2,\n",
       "            min_weight_fraction_leaf=0.0, presort=False, random_state=None,\n",
       "            splitter='best')"
      ]
     },
     "execution_count": 78,
     "metadata": {},
     "output_type": "execute_result"
    }
   ],
   "source": [
    "# Decision tree\n",
    "tree.fit(x_train,y_train)"
   ]
  },
  {
   "cell_type": "code",
   "execution_count": 79,
   "metadata": {},
   "outputs": [
    {
     "name": "stdout",
     "output_type": "stream",
     "text": [
      "accuracy: 56.94%\n"
     ]
    }
   ],
   "source": [
    "dt_predict=tree.predict(x_test)\n",
    "print(\"accuracy: {}%\".format(round(accuracy_score(y_test, dt_predict)*100,2)))"
   ]
  },
  {
   "cell_type": "code",
   "execution_count": 80,
   "metadata": {},
   "outputs": [
    {
     "name": "stderr",
     "output_type": "stream",
     "text": [
      "C:\\Users\\AMAR\\Anaconda3\\lib\\site-packages\\sklearn\\ensemble\\forest.py:246: FutureWarning: The default value of n_estimators will change from 10 in version 0.20 to 100 in 0.22.\n",
      "  \"10 in version 0.20 to 100 in 0.22.\", FutureWarning)\n"
     ]
    },
    {
     "data": {
      "text/plain": [
       "RandomForestClassifier(bootstrap=True, class_weight=None, criterion='gini',\n",
       "            max_depth=None, max_features='auto', max_leaf_nodes=None,\n",
       "            min_impurity_decrease=0.0, min_impurity_split=None,\n",
       "            min_samples_leaf=1, min_samples_split=2,\n",
       "            min_weight_fraction_leaf=0.0, n_estimators=10, n_jobs=None,\n",
       "            oob_score=False, random_state=None, verbose=0,\n",
       "            warm_start=False)"
      ]
     },
     "execution_count": 80,
     "metadata": {},
     "output_type": "execute_result"
    }
   ],
   "source": [
    "# Random Forest\n",
    "forest = RandomForestClassifier()\n",
    "forest.fit(x_train,y_train)"
   ]
  },
  {
   "cell_type": "code",
   "execution_count": 81,
   "metadata": {},
   "outputs": [
    {
     "name": "stdout",
     "output_type": "stream",
     "text": [
      "accuracy: 57.5%\n"
     ]
    }
   ],
   "source": [
    "random_predict=forest.predict(x_test)\n",
    "print(\"accuracy: {}%\".format(round(accuracy_score(y_test, random_predict)*100,2)))"
   ]
  },
  {
   "cell_type": "code",
   "execution_count": 82,
   "metadata": {},
   "outputs": [
    {
     "name": "stderr",
     "output_type": "stream",
     "text": [
      "C:\\Users\\AMAR\\Anaconda3\\lib\\site-packages\\sklearn\\svm\\base.py:196: FutureWarning: The default value of gamma will change from 'auto' to 'scale' in version 0.22 to account better for unscaled features. Set gamma explicitly to 'auto' or 'scale' to avoid this warning.\n",
      "  \"avoid this warning.\", FutureWarning)\n"
     ]
    },
    {
     "name": "stdout",
     "output_type": "stream",
     "text": [
      "The accuracy for Random Forest and Support Vector Machines is: 0.5826840515185244\n"
     ]
    }
   ],
   "source": [
    "# Ensemble approach\n",
    "ensemble=VotingClassifier(estimators=[('Random Forest', forest), ('SVC', svc)], \n",
    "                        voting='hard', weights=[1,2]).fit(x_train,y_train)\n",
    "print('The accuracy for Random Forest and Support Vector Machines is:',ensemble.score(x_test,y_test))"
   ]
  },
  {
   "cell_type": "markdown",
   "metadata": {},
   "source": [
    "###### For Response Variable 3 (RETURNING_DEFERRAL())"
   ]
  },
  {
   "cell_type": "code",
   "execution_count": 83,
   "metadata": {},
   "outputs": [],
   "source": [
    "PG_df2=df[['CASE_ID','STU_CITIZEN_NM','STU_ABOR_TSI_NM','SUBMISSION_METHOD','ENTRY_TYPE','LAST_COUNTRY_EDUCATION',\n",
    "          'PREFERENCE_NO','AVAIL_ORG_UNIT_NM','CURR_AVAIL_YR','CURR_STUDY_PERIOD','STUDY_MODE_CD','ORIG_AVAIL_YR',\n",
    "           'ORIG_STUDY_PERIOD','SPK_CAT_TYPE_CD','OFFER_RELEASED_FG','OFFER_OUTCOME_CD','RETURNING_DEFERRAL']]"
   ]
  },
  {
   "cell_type": "code",
   "execution_count": 84,
   "metadata": {},
   "outputs": [
    {
     "data": {
      "text/html": [
       "<div>\n",
       "<style scoped>\n",
       "    .dataframe tbody tr th:only-of-type {\n",
       "        vertical-align: middle;\n",
       "    }\n",
       "\n",
       "    .dataframe tbody tr th {\n",
       "        vertical-align: top;\n",
       "    }\n",
       "\n",
       "    .dataframe thead th {\n",
       "        text-align: right;\n",
       "    }\n",
       "</style>\n",
       "<table border=\"1\" class=\"dataframe\">\n",
       "  <thead>\n",
       "    <tr style=\"text-align: right;\">\n",
       "      <th></th>\n",
       "      <th>CASE_ID</th>\n",
       "      <th>STU_CITIZEN_NM</th>\n",
       "      <th>STU_ABOR_TSI_NM</th>\n",
       "      <th>SUBMISSION_METHOD</th>\n",
       "      <th>ENTRY_TYPE</th>\n",
       "      <th>LAST_COUNTRY_EDUCATION</th>\n",
       "      <th>PREFERENCE_NO</th>\n",
       "      <th>AVAIL_ORG_UNIT_NM</th>\n",
       "      <th>CURR_AVAIL_YR</th>\n",
       "      <th>CURR_STUDY_PERIOD</th>\n",
       "      <th>STUDY_MODE_CD</th>\n",
       "      <th>ORIG_AVAIL_YR</th>\n",
       "      <th>ORIG_STUDY_PERIOD</th>\n",
       "      <th>SPK_CAT_TYPE_CD</th>\n",
       "      <th>OFFER_RELEASED_FG</th>\n",
       "      <th>OFFER_OUTCOME_CD</th>\n",
       "      <th>RETURNING_DEFERRAL</th>\n",
       "    </tr>\n",
       "  </thead>\n",
       "  <tbody>\n",
       "    <tr>\n",
       "      <th>0</th>\n",
       "      <td>809378|42892|53807</td>\n",
       "      <td>Temporary Entry Permit</td>\n",
       "      <td>Temporary Entry Permit</td>\n",
       "      <td>Online Application</td>\n",
       "      <td>Bachelor (equiv Aust 3yr deg)</td>\n",
       "      <td>China (excludes SARs and Taiwan)</td>\n",
       "      <td>1</td>\n",
       "      <td>Arts</td>\n",
       "      <td>2019</td>\n",
       "      <td>Start Year Intake</td>\n",
       "      <td>STD</td>\n",
       "      <td>2016</td>\n",
       "      <td>Mid Year Intake</td>\n",
       "      <td>MCW</td>\n",
       "      <td>Y</td>\n",
       "      <td>$DEF</td>\n",
       "      <td>Y</td>\n",
       "    </tr>\n",
       "    <tr>\n",
       "      <th>1</th>\n",
       "      <td>257764|62446|92576</td>\n",
       "      <td>Australian</td>\n",
       "      <td>Australian</td>\n",
       "      <td>Online Application</td>\n",
       "      <td>Grad Dip/Postgrad Dip</td>\n",
       "      <td>Not entered</td>\n",
       "      <td>1</td>\n",
       "      <td>Law</td>\n",
       "      <td>2019</td>\n",
       "      <td>Start Year Intake</td>\n",
       "      <td>STD</td>\n",
       "      <td>2016</td>\n",
       "      <td>Mid Year Intake</td>\n",
       "      <td>PGD</td>\n",
       "      <td>Y</td>\n",
       "      <td>$ACC</td>\n",
       "      <td>Y</td>\n",
       "    </tr>\n",
       "    <tr>\n",
       "      <th>2</th>\n",
       "      <td>838396|92416|142450</td>\n",
       "      <td>Temporary Entry Permit</td>\n",
       "      <td>Temporary Entry Permit</td>\n",
       "      <td>Online Application</td>\n",
       "      <td>Bachelor (equiv Aust 3yr deg)</td>\n",
       "      <td>Chile</td>\n",
       "      <td>1</td>\n",
       "      <td>Engineering</td>\n",
       "      <td>2019</td>\n",
       "      <td>Start Year Intake</td>\n",
       "      <td>STD</td>\n",
       "      <td>2017</td>\n",
       "      <td>Start Year Intake</td>\n",
       "      <td>MCW</td>\n",
       "      <td>Y</td>\n",
       "      <td>$ACC</td>\n",
       "      <td>Y</td>\n",
       "    </tr>\n",
       "    <tr>\n",
       "      <th>3</th>\n",
       "      <td>735486|18758|144154</td>\n",
       "      <td>Temporary Entry Permit</td>\n",
       "      <td>Temporary Entry Permit</td>\n",
       "      <td>Data Entry</td>\n",
       "      <td>Bachelor (equiv Aust 3yr deg)</td>\n",
       "      <td>Mexico</td>\n",
       "      <td>1</td>\n",
       "      <td>Engineering</td>\n",
       "      <td>2019</td>\n",
       "      <td>Mid Year Intake</td>\n",
       "      <td>STD</td>\n",
       "      <td>2017</td>\n",
       "      <td>Start Year Intake</td>\n",
       "      <td>MCW</td>\n",
       "      <td>Y</td>\n",
       "      <td>$DEF</td>\n",
       "      <td>Y</td>\n",
       "    </tr>\n",
       "    <tr>\n",
       "      <th>4</th>\n",
       "      <td>502030|95557|149167</td>\n",
       "      <td>Australian</td>\n",
       "      <td>Australian</td>\n",
       "      <td>Online Application</td>\n",
       "      <td>Not entered</td>\n",
       "      <td>Australia</td>\n",
       "      <td>1</td>\n",
       "      <td>Engineering</td>\n",
       "      <td>2019</td>\n",
       "      <td>Start Year Intake</td>\n",
       "      <td>STD</td>\n",
       "      <td>2017</td>\n",
       "      <td>Start Year Intake</td>\n",
       "      <td>MCW</td>\n",
       "      <td>Y</td>\n",
       "      <td>$ACC</td>\n",
       "      <td>Y</td>\n",
       "    </tr>\n",
       "    <tr>\n",
       "      <th>...</th>\n",
       "      <td>...</td>\n",
       "      <td>...</td>\n",
       "      <td>...</td>\n",
       "      <td>...</td>\n",
       "      <td>...</td>\n",
       "      <td>...</td>\n",
       "      <td>...</td>\n",
       "      <td>...</td>\n",
       "      <td>...</td>\n",
       "      <td>...</td>\n",
       "      <td>...</td>\n",
       "      <td>...</td>\n",
       "      <td>...</td>\n",
       "      <td>...</td>\n",
       "      <td>...</td>\n",
       "      <td>...</td>\n",
       "      <td>...</td>\n",
       "    </tr>\n",
       "    <tr>\n",
       "      <th>74393</th>\n",
       "      <td>1140088|517629|793809</td>\n",
       "      <td>Temporary Entry Permit</td>\n",
       "      <td>Temporary Entry Permit</td>\n",
       "      <td>Online Application</td>\n",
       "      <td>Not entered</td>\n",
       "      <td>Not entered</td>\n",
       "      <td>2</td>\n",
       "      <td>Science</td>\n",
       "      <td>2020</td>\n",
       "      <td>Mid Year Intake</td>\n",
       "      <td>STD</td>\n",
       "      <td>2020</td>\n",
       "      <td>Mid Year Intake</td>\n",
       "      <td>MCW</td>\n",
       "      <td>Y</td>\n",
       "      <td>NaN</td>\n",
       "      <td>N</td>\n",
       "    </tr>\n",
       "    <tr>\n",
       "      <th>74394</th>\n",
       "      <td>1098399|517631|793811</td>\n",
       "      <td>Temporary Entry Permit</td>\n",
       "      <td>Temporary Entry Permit</td>\n",
       "      <td>Online Application</td>\n",
       "      <td>Bachelor (equiv Aust 3yr deg)</td>\n",
       "      <td>China (excludes SARs and Taiwan)</td>\n",
       "      <td>1</td>\n",
       "      <td>Arts</td>\n",
       "      <td>2020</td>\n",
       "      <td>Start Year Intake</td>\n",
       "      <td>STD</td>\n",
       "      <td>2020</td>\n",
       "      <td>Start Year Intake</td>\n",
       "      <td>MCW</td>\n",
       "      <td>Y</td>\n",
       "      <td>NaN</td>\n",
       "      <td>N</td>\n",
       "    </tr>\n",
       "    <tr>\n",
       "      <th>74395</th>\n",
       "      <td>1098399|517631|793812</td>\n",
       "      <td>Temporary Entry Permit</td>\n",
       "      <td>Temporary Entry Permit</td>\n",
       "      <td>Online Application</td>\n",
       "      <td>Not entered</td>\n",
       "      <td>China (excludes SARs and Taiwan)</td>\n",
       "      <td>2</td>\n",
       "      <td>Arts</td>\n",
       "      <td>2020</td>\n",
       "      <td>Start Year Intake</td>\n",
       "      <td>STD</td>\n",
       "      <td>2020</td>\n",
       "      <td>Start Year Intake</td>\n",
       "      <td>MCW</td>\n",
       "      <td>Not entered</td>\n",
       "      <td>Not entered</td>\n",
       "      <td>N</td>\n",
       "    </tr>\n",
       "    <tr>\n",
       "      <th>74396</th>\n",
       "      <td>912858|517632|793813</td>\n",
       "      <td>Australian</td>\n",
       "      <td>Australian</td>\n",
       "      <td>Online Application</td>\n",
       "      <td>Not entered</td>\n",
       "      <td>Not entered</td>\n",
       "      <td>1</td>\n",
       "      <td>Medicine, Dentistry and Health Sciences</td>\n",
       "      <td>2020</td>\n",
       "      <td>Start Year Intake</td>\n",
       "      <td>STD</td>\n",
       "      <td>2020</td>\n",
       "      <td>Start Year Intake</td>\n",
       "      <td>MCW</td>\n",
       "      <td>Not entered</td>\n",
       "      <td>Not entered</td>\n",
       "      <td>N</td>\n",
       "    </tr>\n",
       "    <tr>\n",
       "      <th>74397</th>\n",
       "      <td>1140092|517633|793814</td>\n",
       "      <td>Temporary Entry Permit</td>\n",
       "      <td>Temporary Entry Permit</td>\n",
       "      <td>Online Application</td>\n",
       "      <td>Bachelor (equiv Aust 3yr deg)</td>\n",
       "      <td>China (excludes SARs and Taiwan)</td>\n",
       "      <td>1</td>\n",
       "      <td>Business and Economics</td>\n",
       "      <td>2020</td>\n",
       "      <td>Mid Year Intake</td>\n",
       "      <td>STD</td>\n",
       "      <td>2020</td>\n",
       "      <td>Mid Year Intake</td>\n",
       "      <td>MCW</td>\n",
       "      <td>Not entered</td>\n",
       "      <td>Not entered</td>\n",
       "      <td>N</td>\n",
       "    </tr>\n",
       "  </tbody>\n",
       "</table>\n",
       "<p>74398 rows × 17 columns</p>\n",
       "</div>"
      ],
      "text/plain": [
       "                     CASE_ID          STU_CITIZEN_NM         STU_ABOR_TSI_NM  \\\n",
       "0         809378|42892|53807  Temporary Entry Permit  Temporary Entry Permit   \n",
       "1         257764|62446|92576              Australian              Australian   \n",
       "2        838396|92416|142450  Temporary Entry Permit  Temporary Entry Permit   \n",
       "3        735486|18758|144154  Temporary Entry Permit  Temporary Entry Permit   \n",
       "4        502030|95557|149167              Australian              Australian   \n",
       "...                      ...                     ...                     ...   \n",
       "74393  1140088|517629|793809  Temporary Entry Permit  Temporary Entry Permit   \n",
       "74394  1098399|517631|793811  Temporary Entry Permit  Temporary Entry Permit   \n",
       "74395  1098399|517631|793812  Temporary Entry Permit  Temporary Entry Permit   \n",
       "74396   912858|517632|793813              Australian              Australian   \n",
       "74397  1140092|517633|793814  Temporary Entry Permit  Temporary Entry Permit   \n",
       "\n",
       "        SUBMISSION_METHOD                     ENTRY_TYPE  \\\n",
       "0      Online Application  Bachelor (equiv Aust 3yr deg)   \n",
       "1      Online Application          Grad Dip/Postgrad Dip   \n",
       "2      Online Application  Bachelor (equiv Aust 3yr deg)   \n",
       "3              Data Entry  Bachelor (equiv Aust 3yr deg)   \n",
       "4      Online Application                    Not entered   \n",
       "...                   ...                            ...   \n",
       "74393  Online Application                    Not entered   \n",
       "74394  Online Application  Bachelor (equiv Aust 3yr deg)   \n",
       "74395  Online Application                    Not entered   \n",
       "74396  Online Application                    Not entered   \n",
       "74397  Online Application  Bachelor (equiv Aust 3yr deg)   \n",
       "\n",
       "                 LAST_COUNTRY_EDUCATION  PREFERENCE_NO  \\\n",
       "0      China (excludes SARs and Taiwan)              1   \n",
       "1                           Not entered              1   \n",
       "2                                 Chile              1   \n",
       "3                                Mexico              1   \n",
       "4                             Australia              1   \n",
       "...                                 ...            ...   \n",
       "74393                       Not entered              2   \n",
       "74394  China (excludes SARs and Taiwan)              1   \n",
       "74395  China (excludes SARs and Taiwan)              2   \n",
       "74396                       Not entered              1   \n",
       "74397  China (excludes SARs and Taiwan)              1   \n",
       "\n",
       "                             AVAIL_ORG_UNIT_NM  CURR_AVAIL_YR  \\\n",
       "0                                         Arts           2019   \n",
       "1                                          Law           2019   \n",
       "2                                  Engineering           2019   \n",
       "3                                  Engineering           2019   \n",
       "4                                  Engineering           2019   \n",
       "...                                        ...            ...   \n",
       "74393                                  Science           2020   \n",
       "74394                                     Arts           2020   \n",
       "74395                                     Arts           2020   \n",
       "74396  Medicine, Dentistry and Health Sciences           2020   \n",
       "74397                   Business and Economics           2020   \n",
       "\n",
       "       CURR_STUDY_PERIOD STUDY_MODE_CD  ORIG_AVAIL_YR  ORIG_STUDY_PERIOD  \\\n",
       "0      Start Year Intake           STD           2016    Mid Year Intake   \n",
       "1      Start Year Intake           STD           2016    Mid Year Intake   \n",
       "2      Start Year Intake           STD           2017  Start Year Intake   \n",
       "3        Mid Year Intake           STD           2017  Start Year Intake   \n",
       "4      Start Year Intake           STD           2017  Start Year Intake   \n",
       "...                  ...           ...            ...                ...   \n",
       "74393    Mid Year Intake           STD           2020    Mid Year Intake   \n",
       "74394  Start Year Intake           STD           2020  Start Year Intake   \n",
       "74395  Start Year Intake           STD           2020  Start Year Intake   \n",
       "74396  Start Year Intake           STD           2020  Start Year Intake   \n",
       "74397    Mid Year Intake           STD           2020    Mid Year Intake   \n",
       "\n",
       "      SPK_CAT_TYPE_CD OFFER_RELEASED_FG OFFER_OUTCOME_CD RETURNING_DEFERRAL  \n",
       "0                 MCW                 Y             $DEF                  Y  \n",
       "1                 PGD                 Y             $ACC                  Y  \n",
       "2                 MCW                 Y             $ACC                  Y  \n",
       "3                 MCW                 Y             $DEF                  Y  \n",
       "4                 MCW                 Y             $ACC                  Y  \n",
       "...               ...               ...              ...                ...  \n",
       "74393             MCW                 Y              NaN                  N  \n",
       "74394             MCW                 Y              NaN                  N  \n",
       "74395             MCW       Not entered      Not entered                  N  \n",
       "74396             MCW       Not entered      Not entered                  N  \n",
       "74397             MCW       Not entered      Not entered                  N  \n",
       "\n",
       "[74398 rows x 17 columns]"
      ]
     },
     "execution_count": 84,
     "metadata": {},
     "output_type": "execute_result"
    }
   ],
   "source": [
    "PG_df2"
   ]
  },
  {
   "cell_type": "markdown",
   "metadata": {},
   "source": [
    "###### Label Encoding of categorical variables"
   ]
  },
  {
   "cell_type": "code",
   "execution_count": 85,
   "metadata": {},
   "outputs": [
    {
     "name": "stderr",
     "output_type": "stream",
     "text": [
      "C:\\Users\\AMAR\\Anaconda3\\lib\\site-packages\\pandas\\core\\indexing.py:966: SettingWithCopyWarning: \n",
      "A value is trying to be set on a copy of a slice from a DataFrame.\n",
      "Try using .loc[row_indexer,col_indexer] = value instead\n",
      "\n",
      "See the caveats in the documentation: https://pandas.pydata.org/pandas-docs/stable/user_guide/indexing.html#returning-a-view-versus-a-copy\n",
      "  self.obj[item] = s\n"
     ]
    }
   ],
   "source": [
    "PG_df2.iloc[:,1] = LE.fit_transform(PG_df2.iloc[:, 1].values)"
   ]
  },
  {
   "cell_type": "code",
   "execution_count": 86,
   "metadata": {},
   "outputs": [],
   "source": [
    "PG_df2.iloc[:,2] = LE.fit_transform(PG_df2.iloc[:, 2].values)"
   ]
  },
  {
   "cell_type": "code",
   "execution_count": 87,
   "metadata": {},
   "outputs": [],
   "source": [
    "PG_df2.iloc[:,3] = LE.fit_transform(PG_df2.iloc[:, 3].values)"
   ]
  },
  {
   "cell_type": "code",
   "execution_count": 88,
   "metadata": {},
   "outputs": [],
   "source": [
    "PG_df2.iloc[:,4] = LE.fit_transform(PG_df2.iloc[:, 4].values)"
   ]
  },
  {
   "cell_type": "code",
   "execution_count": 89,
   "metadata": {},
   "outputs": [],
   "source": [
    "PG_df2.iloc[:,5] = LE.fit_transform(PG_df2.iloc[:, 5].values)"
   ]
  },
  {
   "cell_type": "code",
   "execution_count": 90,
   "metadata": {},
   "outputs": [],
   "source": [
    "PG_df2.iloc[:,7] = LE.fit_transform(PG_df2.iloc[:, 7].values)"
   ]
  },
  {
   "cell_type": "code",
   "execution_count": 91,
   "metadata": {},
   "outputs": [],
   "source": [
    "PG_df2.iloc[:,9] = LE.fit_transform(PG_df2.iloc[:, 9].values)"
   ]
  },
  {
   "cell_type": "code",
   "execution_count": 92,
   "metadata": {},
   "outputs": [],
   "source": [
    "PG_df2.iloc[:,10] = LE.fit_transform(PG_df2.iloc[:, 10].values)"
   ]
  },
  {
   "cell_type": "code",
   "execution_count": 93,
   "metadata": {},
   "outputs": [],
   "source": [
    "PG_df2.iloc[:,12] = LE.fit_transform(PG_df2.iloc[:, 12].values)"
   ]
  },
  {
   "cell_type": "code",
   "execution_count": 94,
   "metadata": {},
   "outputs": [],
   "source": [
    "PG_df2.iloc[:,13] = LE.fit_transform(PG_df2.iloc[:, 13].values)"
   ]
  },
  {
   "cell_type": "code",
   "execution_count": 95,
   "metadata": {},
   "outputs": [],
   "source": [
    "# Filtering out records for applications that have there offer released and had deferred there offer\n",
    "PG_df22=PG_df2[(PG_df2.OFFER_RELEASED_FG=='Y') & (PG_df2.OFFER_OUTCOME_CD=='$DEF')]"
   ]
  },
  {
   "cell_type": "code",
   "execution_count": 96,
   "metadata": {},
   "outputs": [
    {
     "data": {
      "text/html": [
       "<div>\n",
       "<style scoped>\n",
       "    .dataframe tbody tr th:only-of-type {\n",
       "        vertical-align: middle;\n",
       "    }\n",
       "\n",
       "    .dataframe tbody tr th {\n",
       "        vertical-align: top;\n",
       "    }\n",
       "\n",
       "    .dataframe thead th {\n",
       "        text-align: right;\n",
       "    }\n",
       "</style>\n",
       "<table border=\"1\" class=\"dataframe\">\n",
       "  <thead>\n",
       "    <tr style=\"text-align: right;\">\n",
       "      <th></th>\n",
       "      <th>CASE_ID</th>\n",
       "      <th>STU_CITIZEN_NM</th>\n",
       "      <th>STU_ABOR_TSI_NM</th>\n",
       "      <th>SUBMISSION_METHOD</th>\n",
       "      <th>ENTRY_TYPE</th>\n",
       "      <th>LAST_COUNTRY_EDUCATION</th>\n",
       "      <th>PREFERENCE_NO</th>\n",
       "      <th>AVAIL_ORG_UNIT_NM</th>\n",
       "      <th>CURR_AVAIL_YR</th>\n",
       "      <th>CURR_STUDY_PERIOD</th>\n",
       "      <th>STUDY_MODE_CD</th>\n",
       "      <th>ORIG_AVAIL_YR</th>\n",
       "      <th>ORIG_STUDY_PERIOD</th>\n",
       "      <th>SPK_CAT_TYPE_CD</th>\n",
       "      <th>OFFER_RELEASED_FG</th>\n",
       "      <th>OFFER_OUTCOME_CD</th>\n",
       "      <th>RETURNING_DEFERRAL</th>\n",
       "    </tr>\n",
       "  </thead>\n",
       "  <tbody>\n",
       "    <tr>\n",
       "      <th>0</th>\n",
       "      <td>809378|42892|53807</td>\n",
       "      <td>5</td>\n",
       "      <td>5</td>\n",
       "      <td>5</td>\n",
       "      <td>3</td>\n",
       "      <td>23</td>\n",
       "      <td>1</td>\n",
       "      <td>1</td>\n",
       "      <td>2019</td>\n",
       "      <td>1</td>\n",
       "      <td>3</td>\n",
       "      <td>2016</td>\n",
       "      <td>0</td>\n",
       "      <td>3</td>\n",
       "      <td>Y</td>\n",
       "      <td>$DEF</td>\n",
       "      <td>Y</td>\n",
       "    </tr>\n",
       "    <tr>\n",
       "      <th>3</th>\n",
       "      <td>735486|18758|144154</td>\n",
       "      <td>5</td>\n",
       "      <td>5</td>\n",
       "      <td>0</td>\n",
       "      <td>3</td>\n",
       "      <td>76</td>\n",
       "      <td>1</td>\n",
       "      <td>3</td>\n",
       "      <td>2019</td>\n",
       "      <td>0</td>\n",
       "      <td>3</td>\n",
       "      <td>2017</td>\n",
       "      <td>1</td>\n",
       "      <td>3</td>\n",
       "      <td>Y</td>\n",
       "      <td>$DEF</td>\n",
       "      <td>Y</td>\n",
       "    </tr>\n",
       "    <tr>\n",
       "      <th>5</th>\n",
       "      <td>849365|108527|175922</td>\n",
       "      <td>5</td>\n",
       "      <td>5</td>\n",
       "      <td>5</td>\n",
       "      <td>3</td>\n",
       "      <td>23</td>\n",
       "      <td>1</td>\n",
       "      <td>3</td>\n",
       "      <td>2019</td>\n",
       "      <td>1</td>\n",
       "      <td>3</td>\n",
       "      <td>2017</td>\n",
       "      <td>0</td>\n",
       "      <td>3</td>\n",
       "      <td>Y</td>\n",
       "      <td>$DEF</td>\n",
       "      <td>Y</td>\n",
       "    </tr>\n",
       "    <tr>\n",
       "      <th>6</th>\n",
       "      <td>861606|125025|206242</td>\n",
       "      <td>5</td>\n",
       "      <td>5</td>\n",
       "      <td>5</td>\n",
       "      <td>3</td>\n",
       "      <td>89</td>\n",
       "      <td>1</td>\n",
       "      <td>2</td>\n",
       "      <td>2019</td>\n",
       "      <td>1</td>\n",
       "      <td>3</td>\n",
       "      <td>2017</td>\n",
       "      <td>1</td>\n",
       "      <td>3</td>\n",
       "      <td>Y</td>\n",
       "      <td>$DEF</td>\n",
       "      <td>Y</td>\n",
       "    </tr>\n",
       "    <tr>\n",
       "      <th>7</th>\n",
       "      <td>861722|125187|206506</td>\n",
       "      <td>0</td>\n",
       "      <td>0</td>\n",
       "      <td>5</td>\n",
       "      <td>8</td>\n",
       "      <td>5</td>\n",
       "      <td>1</td>\n",
       "      <td>8</td>\n",
       "      <td>2019</td>\n",
       "      <td>1</td>\n",
       "      <td>3</td>\n",
       "      <td>2017</td>\n",
       "      <td>1</td>\n",
       "      <td>3</td>\n",
       "      <td>Y</td>\n",
       "      <td>$DEF</td>\n",
       "      <td>Y</td>\n",
       "    </tr>\n",
       "    <tr>\n",
       "      <th>...</th>\n",
       "      <td>...</td>\n",
       "      <td>...</td>\n",
       "      <td>...</td>\n",
       "      <td>...</td>\n",
       "      <td>...</td>\n",
       "      <td>...</td>\n",
       "      <td>...</td>\n",
       "      <td>...</td>\n",
       "      <td>...</td>\n",
       "      <td>...</td>\n",
       "      <td>...</td>\n",
       "      <td>...</td>\n",
       "      <td>...</td>\n",
       "      <td>...</td>\n",
       "      <td>...</td>\n",
       "      <td>...</td>\n",
       "      <td>...</td>\n",
       "    </tr>\n",
       "    <tr>\n",
       "      <th>74239</th>\n",
       "      <td>1139923|517378|793442</td>\n",
       "      <td>5</td>\n",
       "      <td>5</td>\n",
       "      <td>5</td>\n",
       "      <td>3</td>\n",
       "      <td>23</td>\n",
       "      <td>1</td>\n",
       "      <td>3</td>\n",
       "      <td>2020</td>\n",
       "      <td>1</td>\n",
       "      <td>3</td>\n",
       "      <td>2020</td>\n",
       "      <td>1</td>\n",
       "      <td>3</td>\n",
       "      <td>Y</td>\n",
       "      <td>$DEF</td>\n",
       "      <td>N</td>\n",
       "    </tr>\n",
       "    <tr>\n",
       "      <th>74284</th>\n",
       "      <td>1139964|517455|793554</td>\n",
       "      <td>5</td>\n",
       "      <td>5</td>\n",
       "      <td>5</td>\n",
       "      <td>3</td>\n",
       "      <td>23</td>\n",
       "      <td>1</td>\n",
       "      <td>1</td>\n",
       "      <td>2020</td>\n",
       "      <td>1</td>\n",
       "      <td>3</td>\n",
       "      <td>2020</td>\n",
       "      <td>1</td>\n",
       "      <td>3</td>\n",
       "      <td>Y</td>\n",
       "      <td>$DEF</td>\n",
       "      <td>N</td>\n",
       "    </tr>\n",
       "    <tr>\n",
       "      <th>74353</th>\n",
       "      <td>1140046|517560|793707</td>\n",
       "      <td>5</td>\n",
       "      <td>5</td>\n",
       "      <td>5</td>\n",
       "      <td>3</td>\n",
       "      <td>23</td>\n",
       "      <td>1</td>\n",
       "      <td>3</td>\n",
       "      <td>2020</td>\n",
       "      <td>1</td>\n",
       "      <td>3</td>\n",
       "      <td>2020</td>\n",
       "      <td>1</td>\n",
       "      <td>3</td>\n",
       "      <td>Y</td>\n",
       "      <td>$DEF</td>\n",
       "      <td>N</td>\n",
       "    </tr>\n",
       "    <tr>\n",
       "      <th>74360</th>\n",
       "      <td>1069087|517566|793719</td>\n",
       "      <td>5</td>\n",
       "      <td>5</td>\n",
       "      <td>5</td>\n",
       "      <td>3</td>\n",
       "      <td>23</td>\n",
       "      <td>1</td>\n",
       "      <td>2</td>\n",
       "      <td>2020</td>\n",
       "      <td>1</td>\n",
       "      <td>3</td>\n",
       "      <td>2020</td>\n",
       "      <td>1</td>\n",
       "      <td>3</td>\n",
       "      <td>Y</td>\n",
       "      <td>$DEF</td>\n",
       "      <td>N</td>\n",
       "    </tr>\n",
       "    <tr>\n",
       "      <th>74361</th>\n",
       "      <td>1069087|517566|793720</td>\n",
       "      <td>5</td>\n",
       "      <td>5</td>\n",
       "      <td>5</td>\n",
       "      <td>10</td>\n",
       "      <td>23</td>\n",
       "      <td>2</td>\n",
       "      <td>3</td>\n",
       "      <td>2020</td>\n",
       "      <td>1</td>\n",
       "      <td>3</td>\n",
       "      <td>2020</td>\n",
       "      <td>1</td>\n",
       "      <td>3</td>\n",
       "      <td>Y</td>\n",
       "      <td>$DEF</td>\n",
       "      <td>N</td>\n",
       "    </tr>\n",
       "  </tbody>\n",
       "</table>\n",
       "<p>4967 rows × 17 columns</p>\n",
       "</div>"
      ],
      "text/plain": [
       "                     CASE_ID  STU_CITIZEN_NM  STU_ABOR_TSI_NM  \\\n",
       "0         809378|42892|53807               5                5   \n",
       "3        735486|18758|144154               5                5   \n",
       "5       849365|108527|175922               5                5   \n",
       "6       861606|125025|206242               5                5   \n",
       "7       861722|125187|206506               0                0   \n",
       "...                      ...             ...              ...   \n",
       "74239  1139923|517378|793442               5                5   \n",
       "74284  1139964|517455|793554               5                5   \n",
       "74353  1140046|517560|793707               5                5   \n",
       "74360  1069087|517566|793719               5                5   \n",
       "74361  1069087|517566|793720               5                5   \n",
       "\n",
       "       SUBMISSION_METHOD  ENTRY_TYPE  LAST_COUNTRY_EDUCATION  PREFERENCE_NO  \\\n",
       "0                      5           3                      23              1   \n",
       "3                      0           3                      76              1   \n",
       "5                      5           3                      23              1   \n",
       "6                      5           3                      89              1   \n",
       "7                      5           8                       5              1   \n",
       "...                  ...         ...                     ...            ...   \n",
       "74239                  5           3                      23              1   \n",
       "74284                  5           3                      23              1   \n",
       "74353                  5           3                      23              1   \n",
       "74360                  5           3                      23              1   \n",
       "74361                  5          10                      23              2   \n",
       "\n",
       "       AVAIL_ORG_UNIT_NM  CURR_AVAIL_YR  CURR_STUDY_PERIOD  STUDY_MODE_CD  \\\n",
       "0                      1           2019                  1              3   \n",
       "3                      3           2019                  0              3   \n",
       "5                      3           2019                  1              3   \n",
       "6                      2           2019                  1              3   \n",
       "7                      8           2019                  1              3   \n",
       "...                  ...            ...                ...            ...   \n",
       "74239                  3           2020                  1              3   \n",
       "74284                  1           2020                  1              3   \n",
       "74353                  3           2020                  1              3   \n",
       "74360                  2           2020                  1              3   \n",
       "74361                  3           2020                  1              3   \n",
       "\n",
       "       ORIG_AVAIL_YR  ORIG_STUDY_PERIOD  SPK_CAT_TYPE_CD OFFER_RELEASED_FG  \\\n",
       "0               2016                  0                3                 Y   \n",
       "3               2017                  1                3                 Y   \n",
       "5               2017                  0                3                 Y   \n",
       "6               2017                  1                3                 Y   \n",
       "7               2017                  1                3                 Y   \n",
       "...              ...                ...              ...               ...   \n",
       "74239           2020                  1                3                 Y   \n",
       "74284           2020                  1                3                 Y   \n",
       "74353           2020                  1                3                 Y   \n",
       "74360           2020                  1                3                 Y   \n",
       "74361           2020                  1                3                 Y   \n",
       "\n",
       "      OFFER_OUTCOME_CD RETURNING_DEFERRAL  \n",
       "0                 $DEF                  Y  \n",
       "3                 $DEF                  Y  \n",
       "5                 $DEF                  Y  \n",
       "6                 $DEF                  Y  \n",
       "7                 $DEF                  Y  \n",
       "...                ...                ...  \n",
       "74239             $DEF                  N  \n",
       "74284             $DEF                  N  \n",
       "74353             $DEF                  N  \n",
       "74360             $DEF                  N  \n",
       "74361             $DEF                  N  \n",
       "\n",
       "[4967 rows x 17 columns]"
      ]
     },
     "execution_count": 96,
     "metadata": {},
     "output_type": "execute_result"
    }
   ],
   "source": [
    "PG_df22"
   ]
  },
  {
   "cell_type": "code",
   "execution_count": 97,
   "metadata": {},
   "outputs": [
    {
     "name": "stderr",
     "output_type": "stream",
     "text": [
      "C:\\Users\\AMAR\\Anaconda3\\lib\\site-packages\\pandas\\core\\indexing.py:966: SettingWithCopyWarning: \n",
      "A value is trying to be set on a copy of a slice from a DataFrame.\n",
      "Try using .loc[row_indexer,col_indexer] = value instead\n",
      "\n",
      "See the caveats in the documentation: https://pandas.pydata.org/pandas-docs/stable/user_guide/indexing.html#returning-a-view-versus-a-copy\n",
      "  self.obj[item] = s\n"
     ]
    }
   ],
   "source": [
    "PG_df22.iloc[:,14] = LE.fit_transform(PG_df22.iloc[:, 14].values)"
   ]
  },
  {
   "cell_type": "code",
   "execution_count": 98,
   "metadata": {},
   "outputs": [],
   "source": [
    "PG_df22.iloc[:,15] = LE.fit_transform(PG_df22.iloc[:, 15].values)"
   ]
  },
  {
   "cell_type": "code",
   "execution_count": 99,
   "metadata": {},
   "outputs": [],
   "source": [
    "PG_df22.iloc[:,16] = LE.fit_transform(PG_df22.iloc[:, 16].values)"
   ]
  },
  {
   "cell_type": "code",
   "execution_count": 100,
   "metadata": {},
   "outputs": [
    {
     "data": {
      "text/html": [
       "<div>\n",
       "<style scoped>\n",
       "    .dataframe tbody tr th:only-of-type {\n",
       "        vertical-align: middle;\n",
       "    }\n",
       "\n",
       "    .dataframe tbody tr th {\n",
       "        vertical-align: top;\n",
       "    }\n",
       "\n",
       "    .dataframe thead th {\n",
       "        text-align: right;\n",
       "    }\n",
       "</style>\n",
       "<table border=\"1\" class=\"dataframe\">\n",
       "  <thead>\n",
       "    <tr style=\"text-align: right;\">\n",
       "      <th></th>\n",
       "      <th>CASE_ID</th>\n",
       "      <th>STU_CITIZEN_NM</th>\n",
       "      <th>STU_ABOR_TSI_NM</th>\n",
       "      <th>SUBMISSION_METHOD</th>\n",
       "      <th>ENTRY_TYPE</th>\n",
       "      <th>LAST_COUNTRY_EDUCATION</th>\n",
       "      <th>PREFERENCE_NO</th>\n",
       "      <th>AVAIL_ORG_UNIT_NM</th>\n",
       "      <th>CURR_AVAIL_YR</th>\n",
       "      <th>CURR_STUDY_PERIOD</th>\n",
       "      <th>STUDY_MODE_CD</th>\n",
       "      <th>ORIG_AVAIL_YR</th>\n",
       "      <th>ORIG_STUDY_PERIOD</th>\n",
       "      <th>SPK_CAT_TYPE_CD</th>\n",
       "      <th>OFFER_RELEASED_FG</th>\n",
       "      <th>OFFER_OUTCOME_CD</th>\n",
       "      <th>RETURNING_DEFERRAL</th>\n",
       "    </tr>\n",
       "  </thead>\n",
       "  <tbody>\n",
       "    <tr>\n",
       "      <th>0</th>\n",
       "      <td>809378|42892|53807</td>\n",
       "      <td>5</td>\n",
       "      <td>5</td>\n",
       "      <td>5</td>\n",
       "      <td>3</td>\n",
       "      <td>23</td>\n",
       "      <td>1</td>\n",
       "      <td>1</td>\n",
       "      <td>2019</td>\n",
       "      <td>1</td>\n",
       "      <td>3</td>\n",
       "      <td>2016</td>\n",
       "      <td>0</td>\n",
       "      <td>3</td>\n",
       "      <td>0</td>\n",
       "      <td>0</td>\n",
       "      <td>1</td>\n",
       "    </tr>\n",
       "    <tr>\n",
       "      <th>3</th>\n",
       "      <td>735486|18758|144154</td>\n",
       "      <td>5</td>\n",
       "      <td>5</td>\n",
       "      <td>0</td>\n",
       "      <td>3</td>\n",
       "      <td>76</td>\n",
       "      <td>1</td>\n",
       "      <td>3</td>\n",
       "      <td>2019</td>\n",
       "      <td>0</td>\n",
       "      <td>3</td>\n",
       "      <td>2017</td>\n",
       "      <td>1</td>\n",
       "      <td>3</td>\n",
       "      <td>0</td>\n",
       "      <td>0</td>\n",
       "      <td>1</td>\n",
       "    </tr>\n",
       "    <tr>\n",
       "      <th>5</th>\n",
       "      <td>849365|108527|175922</td>\n",
       "      <td>5</td>\n",
       "      <td>5</td>\n",
       "      <td>5</td>\n",
       "      <td>3</td>\n",
       "      <td>23</td>\n",
       "      <td>1</td>\n",
       "      <td>3</td>\n",
       "      <td>2019</td>\n",
       "      <td>1</td>\n",
       "      <td>3</td>\n",
       "      <td>2017</td>\n",
       "      <td>0</td>\n",
       "      <td>3</td>\n",
       "      <td>0</td>\n",
       "      <td>0</td>\n",
       "      <td>1</td>\n",
       "    </tr>\n",
       "    <tr>\n",
       "      <th>6</th>\n",
       "      <td>861606|125025|206242</td>\n",
       "      <td>5</td>\n",
       "      <td>5</td>\n",
       "      <td>5</td>\n",
       "      <td>3</td>\n",
       "      <td>89</td>\n",
       "      <td>1</td>\n",
       "      <td>2</td>\n",
       "      <td>2019</td>\n",
       "      <td>1</td>\n",
       "      <td>3</td>\n",
       "      <td>2017</td>\n",
       "      <td>1</td>\n",
       "      <td>3</td>\n",
       "      <td>0</td>\n",
       "      <td>0</td>\n",
       "      <td>1</td>\n",
       "    </tr>\n",
       "    <tr>\n",
       "      <th>7</th>\n",
       "      <td>861722|125187|206506</td>\n",
       "      <td>0</td>\n",
       "      <td>0</td>\n",
       "      <td>5</td>\n",
       "      <td>8</td>\n",
       "      <td>5</td>\n",
       "      <td>1</td>\n",
       "      <td>8</td>\n",
       "      <td>2019</td>\n",
       "      <td>1</td>\n",
       "      <td>3</td>\n",
       "      <td>2017</td>\n",
       "      <td>1</td>\n",
       "      <td>3</td>\n",
       "      <td>0</td>\n",
       "      <td>0</td>\n",
       "      <td>1</td>\n",
       "    </tr>\n",
       "    <tr>\n",
       "      <th>...</th>\n",
       "      <td>...</td>\n",
       "      <td>...</td>\n",
       "      <td>...</td>\n",
       "      <td>...</td>\n",
       "      <td>...</td>\n",
       "      <td>...</td>\n",
       "      <td>...</td>\n",
       "      <td>...</td>\n",
       "      <td>...</td>\n",
       "      <td>...</td>\n",
       "      <td>...</td>\n",
       "      <td>...</td>\n",
       "      <td>...</td>\n",
       "      <td>...</td>\n",
       "      <td>...</td>\n",
       "      <td>...</td>\n",
       "      <td>...</td>\n",
       "    </tr>\n",
       "    <tr>\n",
       "      <th>74239</th>\n",
       "      <td>1139923|517378|793442</td>\n",
       "      <td>5</td>\n",
       "      <td>5</td>\n",
       "      <td>5</td>\n",
       "      <td>3</td>\n",
       "      <td>23</td>\n",
       "      <td>1</td>\n",
       "      <td>3</td>\n",
       "      <td>2020</td>\n",
       "      <td>1</td>\n",
       "      <td>3</td>\n",
       "      <td>2020</td>\n",
       "      <td>1</td>\n",
       "      <td>3</td>\n",
       "      <td>0</td>\n",
       "      <td>0</td>\n",
       "      <td>0</td>\n",
       "    </tr>\n",
       "    <tr>\n",
       "      <th>74284</th>\n",
       "      <td>1139964|517455|793554</td>\n",
       "      <td>5</td>\n",
       "      <td>5</td>\n",
       "      <td>5</td>\n",
       "      <td>3</td>\n",
       "      <td>23</td>\n",
       "      <td>1</td>\n",
       "      <td>1</td>\n",
       "      <td>2020</td>\n",
       "      <td>1</td>\n",
       "      <td>3</td>\n",
       "      <td>2020</td>\n",
       "      <td>1</td>\n",
       "      <td>3</td>\n",
       "      <td>0</td>\n",
       "      <td>0</td>\n",
       "      <td>0</td>\n",
       "    </tr>\n",
       "    <tr>\n",
       "      <th>74353</th>\n",
       "      <td>1140046|517560|793707</td>\n",
       "      <td>5</td>\n",
       "      <td>5</td>\n",
       "      <td>5</td>\n",
       "      <td>3</td>\n",
       "      <td>23</td>\n",
       "      <td>1</td>\n",
       "      <td>3</td>\n",
       "      <td>2020</td>\n",
       "      <td>1</td>\n",
       "      <td>3</td>\n",
       "      <td>2020</td>\n",
       "      <td>1</td>\n",
       "      <td>3</td>\n",
       "      <td>0</td>\n",
       "      <td>0</td>\n",
       "      <td>0</td>\n",
       "    </tr>\n",
       "    <tr>\n",
       "      <th>74360</th>\n",
       "      <td>1069087|517566|793719</td>\n",
       "      <td>5</td>\n",
       "      <td>5</td>\n",
       "      <td>5</td>\n",
       "      <td>3</td>\n",
       "      <td>23</td>\n",
       "      <td>1</td>\n",
       "      <td>2</td>\n",
       "      <td>2020</td>\n",
       "      <td>1</td>\n",
       "      <td>3</td>\n",
       "      <td>2020</td>\n",
       "      <td>1</td>\n",
       "      <td>3</td>\n",
       "      <td>0</td>\n",
       "      <td>0</td>\n",
       "      <td>0</td>\n",
       "    </tr>\n",
       "    <tr>\n",
       "      <th>74361</th>\n",
       "      <td>1069087|517566|793720</td>\n",
       "      <td>5</td>\n",
       "      <td>5</td>\n",
       "      <td>5</td>\n",
       "      <td>10</td>\n",
       "      <td>23</td>\n",
       "      <td>2</td>\n",
       "      <td>3</td>\n",
       "      <td>2020</td>\n",
       "      <td>1</td>\n",
       "      <td>3</td>\n",
       "      <td>2020</td>\n",
       "      <td>1</td>\n",
       "      <td>3</td>\n",
       "      <td>0</td>\n",
       "      <td>0</td>\n",
       "      <td>0</td>\n",
       "    </tr>\n",
       "  </tbody>\n",
       "</table>\n",
       "<p>4967 rows × 17 columns</p>\n",
       "</div>"
      ],
      "text/plain": [
       "                     CASE_ID  STU_CITIZEN_NM  STU_ABOR_TSI_NM  \\\n",
       "0         809378|42892|53807               5                5   \n",
       "3        735486|18758|144154               5                5   \n",
       "5       849365|108527|175922               5                5   \n",
       "6       861606|125025|206242               5                5   \n",
       "7       861722|125187|206506               0                0   \n",
       "...                      ...             ...              ...   \n",
       "74239  1139923|517378|793442               5                5   \n",
       "74284  1139964|517455|793554               5                5   \n",
       "74353  1140046|517560|793707               5                5   \n",
       "74360  1069087|517566|793719               5                5   \n",
       "74361  1069087|517566|793720               5                5   \n",
       "\n",
       "       SUBMISSION_METHOD  ENTRY_TYPE  LAST_COUNTRY_EDUCATION  PREFERENCE_NO  \\\n",
       "0                      5           3                      23              1   \n",
       "3                      0           3                      76              1   \n",
       "5                      5           3                      23              1   \n",
       "6                      5           3                      89              1   \n",
       "7                      5           8                       5              1   \n",
       "...                  ...         ...                     ...            ...   \n",
       "74239                  5           3                      23              1   \n",
       "74284                  5           3                      23              1   \n",
       "74353                  5           3                      23              1   \n",
       "74360                  5           3                      23              1   \n",
       "74361                  5          10                      23              2   \n",
       "\n",
       "       AVAIL_ORG_UNIT_NM  CURR_AVAIL_YR  CURR_STUDY_PERIOD  STUDY_MODE_CD  \\\n",
       "0                      1           2019                  1              3   \n",
       "3                      3           2019                  0              3   \n",
       "5                      3           2019                  1              3   \n",
       "6                      2           2019                  1              3   \n",
       "7                      8           2019                  1              3   \n",
       "...                  ...            ...                ...            ...   \n",
       "74239                  3           2020                  1              3   \n",
       "74284                  1           2020                  1              3   \n",
       "74353                  3           2020                  1              3   \n",
       "74360                  2           2020                  1              3   \n",
       "74361                  3           2020                  1              3   \n",
       "\n",
       "       ORIG_AVAIL_YR  ORIG_STUDY_PERIOD  SPK_CAT_TYPE_CD  OFFER_RELEASED_FG  \\\n",
       "0               2016                  0                3                  0   \n",
       "3               2017                  1                3                  0   \n",
       "5               2017                  0                3                  0   \n",
       "6               2017                  1                3                  0   \n",
       "7               2017                  1                3                  0   \n",
       "...              ...                ...              ...                ...   \n",
       "74239           2020                  1                3                  0   \n",
       "74284           2020                  1                3                  0   \n",
       "74353           2020                  1                3                  0   \n",
       "74360           2020                  1                3                  0   \n",
       "74361           2020                  1                3                  0   \n",
       "\n",
       "       OFFER_OUTCOME_CD  RETURNING_DEFERRAL  \n",
       "0                     0                   1  \n",
       "3                     0                   1  \n",
       "5                     0                   1  \n",
       "6                     0                   1  \n",
       "7                     0                   1  \n",
       "...                 ...                 ...  \n",
       "74239                 0                   0  \n",
       "74284                 0                   0  \n",
       "74353                 0                   0  \n",
       "74360                 0                   0  \n",
       "74361                 0                   0  \n",
       "\n",
       "[4967 rows x 17 columns]"
      ]
     },
     "execution_count": 100,
     "metadata": {},
     "output_type": "execute_result"
    }
   ],
   "source": [
    "PG_df22"
   ]
  },
  {
   "cell_type": "code",
   "execution_count": 101,
   "metadata": {},
   "outputs": [],
   "source": [
    "X =PG_df22.iloc[:,1:16].values\n",
    "Y =PG_df22.iloc[:,16].values "
   ]
  },
  {
   "cell_type": "code",
   "execution_count": 102,
   "metadata": {},
   "outputs": [],
   "source": [
    "#spliting dataset\n",
    "x_train,x_test,y_train,y_test=train_test_split(X,Y,test_size = 0.3,random_state=0)"
   ]
  },
  {
   "cell_type": "code",
   "execution_count": 103,
   "metadata": {},
   "outputs": [],
   "source": [
    "# Logistic Regression\n",
    "lr = LogisticRegression()"
   ]
  },
  {
   "cell_type": "code",
   "execution_count": 104,
   "metadata": {},
   "outputs": [
    {
     "name": "stderr",
     "output_type": "stream",
     "text": [
      "C:\\Users\\AMAR\\Anaconda3\\lib\\site-packages\\sklearn\\linear_model\\logistic.py:433: FutureWarning: Default solver will be changed to 'lbfgs' in 0.22. Specify a solver to silence this warning.\n",
      "  FutureWarning)\n"
     ]
    },
    {
     "data": {
      "text/plain": [
       "LogisticRegression(C=1.0, class_weight=None, dual=False, fit_intercept=True,\n",
       "          intercept_scaling=1, max_iter=100, multi_class='warn',\n",
       "          n_jobs=None, penalty='l2', random_state=None, solver='warn',\n",
       "          tol=0.0001, verbose=0, warm_start=False)"
      ]
     },
     "execution_count": 104,
     "metadata": {},
     "output_type": "execute_result"
    }
   ],
   "source": [
    "lr.fit(x_train,y_train)"
   ]
  },
  {
   "cell_type": "code",
   "execution_count": 105,
   "metadata": {},
   "outputs": [
    {
     "name": "stdout",
     "output_type": "stream",
     "text": [
      "accuracy: 97.85%\n"
     ]
    }
   ],
   "source": [
    "lr_predict=lr.predict(x_test)\n",
    "print(\"accuracy: {}%\".format(round(accuracy_score(y_test, lr_predict)*100,2)))"
   ]
  },
  {
   "cell_type": "code",
   "execution_count": 106,
   "metadata": {},
   "outputs": [
    {
     "name": "stdout",
     "output_type": "stream",
     "text": [
      "Accuracy: 97.85%\n",
      "\n",
      " Confusion Matrix : \n",
      "\n",
      "[[984  32]\n",
      " [  0 475]]\n",
      "\n",
      "Performance on offer outcome with prerequisite:\n",
      "Precision = 0.9785378940308518\n",
      "Recall    = 0.9785378940308518\n",
      "F1        = 0.9785378940308518\n"
     ]
    }
   ],
   "source": [
    "# Confusion Matrix, f1_score, precision, recall calculation\n",
    "score=accuracy_score(y_test,lr_predict)\n",
    "print(f'Accuracy: {round(score*100,2)}%')\n",
    "\n",
    "cm=confusion_matrix(y_test,lr_predict, labels=[1,0])\n",
    "print (\"\\n Confusion Matrix : \\n\")\n",
    "print (cm)\n",
    "\n",
    "p, r, f, _ = precision_recall_fscore_support(y_test,lr_predict, pos_label=1, average=\"micro\");\n",
    "\n",
    "print(\"\\nPerformance on offer outcome with prerequisite:\")\n",
    "print(\"Precision =\", p)\n",
    "print(\"Recall    =\", r)\n",
    "print(\"F1        =\", f)"
   ]
  },
  {
   "cell_type": "code",
   "execution_count": 107,
   "metadata": {
    "scrolled": true
   },
   "outputs": [
    {
     "data": {
      "text/plain": [
       "array([1, 0, 1, ..., 1, 1, 1])"
      ]
     },
     "execution_count": 107,
     "metadata": {},
     "output_type": "execute_result"
    }
   ],
   "source": [
    "lr_predict"
   ]
  },
  {
   "cell_type": "code",
   "execution_count": 108,
   "metadata": {},
   "outputs": [
    {
     "name": "stderr",
     "output_type": "stream",
     "text": [
      "C:\\Users\\AMAR\\Anaconda3\\lib\\site-packages\\sklearn\\svm\\base.py:922: ConvergenceWarning: Liblinear failed to converge, increase the number of iterations.\n",
      "  \"the number of iterations.\", ConvergenceWarning)\n"
     ]
    },
    {
     "data": {
      "text/plain": [
       "LinearSVC(C=1.0, class_weight=None, dual=True, fit_intercept=True,\n",
       "     intercept_scaling=1, loss='squared_hinge', max_iter=1000,\n",
       "     multi_class='ovr', penalty='l2', random_state=None, tol=0.0001,\n",
       "     verbose=0)"
      ]
     },
     "execution_count": 108,
     "metadata": {},
     "output_type": "execute_result"
    }
   ],
   "source": [
    "# Linear SVC\n",
    "svm = LinearSVC()\n",
    "svm.fit(x_train, y_train)"
   ]
  },
  {
   "cell_type": "code",
   "execution_count": 109,
   "metadata": {},
   "outputs": [
    {
     "name": "stdout",
     "output_type": "stream",
     "text": [
      "accuracy: 68.14%\n"
     ]
    }
   ],
   "source": [
    "svm_predict = svm.predict(x_test)\n",
    "print(\"accuracy: {}%\".format(round(accuracy_score(y_test, svm_predict)*100,2)))"
   ]
  },
  {
   "cell_type": "code",
   "execution_count": 110,
   "metadata": {},
   "outputs": [
    {
     "name": "stderr",
     "output_type": "stream",
     "text": [
      "C:\\Users\\AMAR\\Anaconda3\\lib\\site-packages\\sklearn\\svm\\base.py:196: FutureWarning: The default value of gamma will change from 'auto' to 'scale' in version 0.22 to account better for unscaled features. Set gamma explicitly to 'auto' or 'scale' to avoid this warning.\n",
      "  \"avoid this warning.\", FutureWarning)\n"
     ]
    },
    {
     "data": {
      "text/plain": [
       "SVC(C=1.0, cache_size=200, class_weight=None, coef0=0.0,\n",
       "  decision_function_shape='ovr', degree=3, gamma='auto_deprecated',\n",
       "  kernel='rbf', max_iter=-1, probability=False, random_state=None,\n",
       "  shrinking=True, tol=0.001, verbose=False)"
      ]
     },
     "execution_count": 110,
     "metadata": {},
     "output_type": "execute_result"
    }
   ],
   "source": [
    "# SVC\n",
    "svc = SVC()\n",
    "svc.fit(x_train, y_train)"
   ]
  },
  {
   "cell_type": "code",
   "execution_count": 111,
   "metadata": {},
   "outputs": [
    {
     "name": "stdout",
     "output_type": "stream",
     "text": [
      "accuracy: 84.84%\n"
     ]
    }
   ],
   "source": [
    "svc_predict = svc.predict(x_test)\n",
    "print(\"accuracy: {}%\".format(round(accuracy_score(y_test, svc_predict)*100,2)))"
   ]
  },
  {
   "cell_type": "code",
   "execution_count": 112,
   "metadata": {},
   "outputs": [
    {
     "data": {
      "text/plain": [
       "MultinomialNB(alpha=1.0, class_prior=None, fit_prior=True)"
      ]
     },
     "execution_count": 112,
     "metadata": {},
     "output_type": "execute_result"
    }
   ],
   "source": [
    "# Multinomial Naive Bayes\n",
    "mnb = MultinomialNB()\n",
    "mnb.fit(x_train, y_train)"
   ]
  },
  {
   "cell_type": "code",
   "execution_count": 113,
   "metadata": {},
   "outputs": [
    {
     "name": "stdout",
     "output_type": "stream",
     "text": [
      "accuracy: 48.63%\n"
     ]
    }
   ],
   "source": [
    "mnb_predict = mnb.predict(x_test)\n",
    "print(\"accuracy: {}%\".format(round(accuracy_score(y_test, mnb_predict)*100,2)))"
   ]
  },
  {
   "cell_type": "code",
   "execution_count": 114,
   "metadata": {},
   "outputs": [
    {
     "data": {
      "text/plain": [
       "BernoulliNB(alpha=1.0, binarize=0.0, class_prior=None, fit_prior=True)"
      ]
     },
     "execution_count": 114,
     "metadata": {},
     "output_type": "execute_result"
    }
   ],
   "source": [
    "#Bernoulli Naive Bayes\n",
    "bnb = BernoulliNB()\n",
    "bnb.fit(x_train, y_train)"
   ]
  },
  {
   "cell_type": "code",
   "execution_count": 115,
   "metadata": {},
   "outputs": [
    {
     "name": "stdout",
     "output_type": "stream",
     "text": [
      "accuracy: 65.86%\n"
     ]
    }
   ],
   "source": [
    "bnb_predict = bnb.predict(x_test)\n",
    "print(\"accuracy: {}%\".format(round(accuracy_score(y_test, bnb_predict)*100,2)))"
   ]
  },
  {
   "cell_type": "code",
   "execution_count": 116,
   "metadata": {},
   "outputs": [
    {
     "data": {
      "text/plain": [
       "KNeighborsClassifier(algorithm='auto', leaf_size=30, metric='minkowski',\n",
       "           metric_params=None, n_jobs=None, n_neighbors=5, p=2,\n",
       "           weights='uniform')"
      ]
     },
     "execution_count": 116,
     "metadata": {},
     "output_type": "execute_result"
    }
   ],
   "source": [
    "# K Nearest Neighbors\n",
    "Knn = KNeighborsClassifier()\n",
    "Knn.fit(x_train,y_train)"
   ]
  },
  {
   "cell_type": "code",
   "execution_count": 117,
   "metadata": {},
   "outputs": [
    {
     "name": "stdout",
     "output_type": "stream",
     "text": [
      "accuracy: 83.03%\n"
     ]
    }
   ],
   "source": [
    "knn_predict=Knn.predict(x_test)\n",
    "print(\"accuracy: {}%\".format(round(accuracy_score(y_test, knn_predict)*100,2)))"
   ]
  },
  {
   "cell_type": "code",
   "execution_count": 118,
   "metadata": {},
   "outputs": [
    {
     "data": {
      "text/plain": [
       "DecisionTreeClassifier(class_weight=None, criterion='gini', max_depth=None,\n",
       "            max_features=None, max_leaf_nodes=None,\n",
       "            min_impurity_decrease=0.0, min_impurity_split=None,\n",
       "            min_samples_leaf=1, min_samples_split=2,\n",
       "            min_weight_fraction_leaf=0.0, presort=False, random_state=None,\n",
       "            splitter='best')"
      ]
     },
     "execution_count": 118,
     "metadata": {},
     "output_type": "execute_result"
    }
   ],
   "source": [
    "# Decision Tree\n",
    "tree = DecisionTreeClassifier()\n",
    "tree.fit(x_train,y_train)"
   ]
  },
  {
   "cell_type": "code",
   "execution_count": 119,
   "metadata": {},
   "outputs": [
    {
     "name": "stdout",
     "output_type": "stream",
     "text": [
      "accuracy: 97.12%\n"
     ]
    }
   ],
   "source": [
    "dt_predict=tree.predict(x_test)\n",
    "print(\"accuracy: {}%\".format(round(accuracy_score(y_test, dt_predict)*100,2)))"
   ]
  },
  {
   "cell_type": "code",
   "execution_count": 120,
   "metadata": {},
   "outputs": [
    {
     "name": "stderr",
     "output_type": "stream",
     "text": [
      "C:\\Users\\AMAR\\Anaconda3\\lib\\site-packages\\sklearn\\ensemble\\forest.py:246: FutureWarning: The default value of n_estimators will change from 10 in version 0.20 to 100 in 0.22.\n",
      "  \"10 in version 0.20 to 100 in 0.22.\", FutureWarning)\n"
     ]
    },
    {
     "data": {
      "text/plain": [
       "RandomForestClassifier(bootstrap=True, class_weight=None, criterion='gini',\n",
       "            max_depth=None, max_features='auto', max_leaf_nodes=None,\n",
       "            min_impurity_decrease=0.0, min_impurity_split=None,\n",
       "            min_samples_leaf=1, min_samples_split=2,\n",
       "            min_weight_fraction_leaf=0.0, n_estimators=10, n_jobs=None,\n",
       "            oob_score=False, random_state=None, verbose=0,\n",
       "            warm_start=False)"
      ]
     },
     "execution_count": 120,
     "metadata": {},
     "output_type": "execute_result"
    }
   ],
   "source": [
    "# Random Forest\n",
    "forest = RandomForestClassifier()\n",
    "forest.fit(x_train,y_train)"
   ]
  },
  {
   "cell_type": "code",
   "execution_count": 121,
   "metadata": {},
   "outputs": [
    {
     "name": "stdout",
     "output_type": "stream",
     "text": [
      "accuracy: 97.38%\n"
     ]
    }
   ],
   "source": [
    "random_predict=forest.predict(x_test)\n",
    "print(\"accuracy: {}%\".format(round(accuracy_score(y_test, random_predict)*100,2)))"
   ]
  },
  {
   "cell_type": "code",
   "execution_count": 122,
   "metadata": {},
   "outputs": [
    {
     "name": "stderr",
     "output_type": "stream",
     "text": [
      "C:\\Users\\AMAR\\Anaconda3\\lib\\site-packages\\sklearn\\svm\\base.py:196: FutureWarning: The default value of gamma will change from 'auto' to 'scale' in version 0.22 to account better for unscaled features. Set gamma explicitly to 'auto' or 'scale' to avoid this warning.\n",
      "  \"avoid this warning.\", FutureWarning)\n"
     ]
    },
    {
     "name": "stdout",
     "output_type": "stream",
     "text": [
      "The accuracy for K Nearest Neighbours and Support Vector Machines is: 0.8484238765928906\n"
     ]
    }
   ],
   "source": [
    "# Ensemble Approach\n",
    "ensemble=VotingClassifier(estimators=[('KNN', Knn), ('SVC', svc)], \n",
    "                        voting='hard', weights=[1,2]).fit(x_train,y_train)\n",
    "print('The accuracy for K Nearest Neighbours and Support Vector Machines is:',ensemble.score(x_test,y_test))"
   ]
  }
 ],
 "metadata": {
  "kernelspec": {
   "display_name": "Python 3",
   "language": "python",
   "name": "python3"
  },
  "language_info": {
   "codemirror_mode": {
    "name": "ipython",
    "version": 3
   },
   "file_extension": ".py",
   "mimetype": "text/x-python",
   "name": "python",
   "nbconvert_exporter": "python",
   "pygments_lexer": "ipython3",
   "version": "3.7.1"
  }
 },
 "nbformat": 4,
 "nbformat_minor": 2
}
